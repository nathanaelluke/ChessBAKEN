{
  "cells": [
    {
      "cell_type": "markdown",
      "metadata": {
        "id": "view-in-github",
        "colab_type": "text"
      },
      "source": [
        "<a href=\"https://colab.research.google.com/github/averyrair/ChessBAKEN/blob/main/PositionEvaluation/howMagnusCarlsenEvaluator.ipynb\" target=\"_parent\"><img src=\"https://colab.research.google.com/assets/colab-badge.svg\" alt=\"Open In Colab\"/></a>"
      ]
    },
    {
      "cell_type": "code",
      "execution_count": 1,
      "metadata": {
        "colab": {
          "base_uri": "https://localhost:8080/"
        },
        "id": "SjTh7tO91IOK",
        "outputId": "4b19a025-6acf-4a69-8d1c-289fa117f38e"
      },
      "outputs": [
        {
          "output_type": "stream",
          "name": "stdout",
          "text": [
            "Collecting chess\n",
            "  Downloading chess-1.11.2.tar.gz (6.1 MB)\n",
            "\u001b[2K     \u001b[90m━━━━━━━━━━━━━━━━━━━━━━━━━━━━━━━━━━━━━━━━\u001b[0m \u001b[32m6.1/6.1 MB\u001b[0m \u001b[31m40.1 MB/s\u001b[0m eta \u001b[36m0:00:00\u001b[0m\n",
            "\u001b[?25h  Preparing metadata (setup.py) ... \u001b[?25l\u001b[?25hdone\n",
            "Building wheels for collected packages: chess\n",
            "  Building wheel for chess (setup.py) ... \u001b[?25l\u001b[?25hdone\n",
            "  Created wheel for chess: filename=chess-1.11.2-py3-none-any.whl size=147776 sha256=e4fe4c6744490df2706afb60e393a648bc9e3534aac2b77d4092c5983850a9c0\n",
            "  Stored in directory: /root/.cache/pip/wheels/fb/5d/5c/59a62d8a695285e59ec9c1f66add6f8a9ac4152499a2be0113\n",
            "Successfully built chess\n",
            "Installing collected packages: chess\n",
            "Successfully installed chess-1.11.2\n",
            "Collecting stockfish\n",
            "  Downloading stockfish-3.28.0-py3-none-any.whl.metadata (12 kB)\n",
            "Downloading stockfish-3.28.0-py3-none-any.whl (13 kB)\n",
            "Installing collected packages: stockfish\n",
            "Successfully installed stockfish-3.28.0\n",
            "Reading package lists... Done\n",
            "Building dependency tree... Done\n",
            "Reading state information... Done\n",
            "Suggested packages:\n",
            "  polyglot xboard | scid\n",
            "The following NEW packages will be installed:\n",
            "  stockfish\n",
            "0 upgraded, 1 newly installed, 0 to remove and 29 not upgraded.\n",
            "Need to get 24.8 MB of archives.\n",
            "After this operation, 47.4 MB of additional disk space will be used.\n",
            "Get:1 http://archive.ubuntu.com/ubuntu jammy/universe amd64 stockfish amd64 14.1-1 [24.8 MB]\n",
            "Fetched 24.8 MB in 2s (14.0 MB/s)\n",
            "Selecting previously unselected package stockfish.\n",
            "(Reading database ... 126209 files and directories currently installed.)\n",
            "Preparing to unpack .../stockfish_14.1-1_amd64.deb ...\n",
            "Unpacking stockfish (14.1-1) ...\n",
            "Setting up stockfish (14.1-1) ...\n",
            "Processing triggers for man-db (2.10.2-1) ...\n"
          ]
        }
      ],
      "source": [
        "!pip install chess\n",
        "!pip install stockfish\n",
        "!apt install stockfish"
      ]
    },
    {
      "cell_type": "code",
      "source": [
        "# @title Get board positions from inputted file\n",
        "\n",
        "import chess.pgn\n",
        "import csv\n",
        "\n",
        "# Open PGN file\n",
        "f = 'KingBase2019-A80-A99.pgn'\n",
        "pgn = open(f, encoding='latin-1')\n",
        "\n",
        "# Prepare CSV file\n",
        "with open(\"game_positions_mini.csv\", \"w\", newline='') as csvfile:\n",
        "    writer = csv.writer(csvfile)\n",
        "    writer.writerow([\"pos\", \"turn\", \"result\"])  # header\n",
        "\n",
        "    game_count = 0\n",
        "    while True:\n",
        "        game = chess.pgn.read_game(pgn)\n",
        "        if game is None:\n",
        "            break  # No more games\n",
        "\n",
        "        result_str = game.headers.get(\"Result\", \"*\")\n",
        "        if result_str == \"1-0\":\n",
        "            result = 1\n",
        "        elif result_str == \"0-1\":\n",
        "            result = -1\n",
        "        elif result_str == \"1/2-1/2\":\n",
        "            result = 0\n",
        "        else:\n",
        "            continue  # Skip games with unknown result\n",
        "\n",
        "        board = game.board()\n",
        "        for move in game.mainline_moves():\n",
        "            board.push(move)\n",
        "            pos = board.fen().split()[0]\n",
        "            turn = 1 if board.turn == chess.WHITE else 0\n",
        "            writer.writerow([pos, turn, result])\n",
        "\n",
        "        game_count += 1\n",
        "        if game_count % 100 == 0:\n",
        "            print(f\"Processed {game_count} games...\")\n",
        "        if game_count == 1000:\n",
        "            break\n",
        "\n",
        "print(\"Done.\")"
      ],
      "metadata": {
        "colab": {
          "base_uri": "https://localhost:8080/"
        },
        "id": "k6QOrRDyEVqH",
        "outputId": "959eb97e-72d6-49e6-d821-ad90ec3bcf80"
      },
      "execution_count": 1,
      "outputs": [
        {
          "output_type": "stream",
          "name": "stdout",
          "text": [
            "Processed 100 games...\n",
            "Processed 200 games...\n",
            "Processed 300 games...\n",
            "Processed 400 games...\n",
            "Processed 500 games...\n",
            "Processed 600 games...\n",
            "Processed 700 games...\n",
            "Processed 800 games...\n",
            "Processed 900 games...\n",
            "Processed 1000 games...\n",
            "Done.\n"
          ]
        }
      ]
    },
    {
      "cell_type": "code",
      "source": [
        "# @title Encode the 768 positions and current player turn\n",
        "\n",
        "import csv\n",
        "import numpy as np\n",
        "from sklearn.model_selection import train_test_split\n",
        "\n",
        "# One-hot encode 64 squares × 12 possible piece types\n",
        "def encode_board_only(fen: str) -> list:\n",
        "    encoded = [0] * 768\n",
        "    piece_to_index = {\n",
        "        'P': 0, 'N': 1, 'B': 2, 'R': 3, 'Q': 4, 'K': 5,\n",
        "        'p': 6, 'n': 7, 'b': 8, 'r': 9, 'q': 10, 'k': 11\n",
        "    }\n",
        "    rows = fen.split('/')\n",
        "    for row_idx, row in enumerate(rows):\n",
        "        col_idx = 0\n",
        "        for char in row:\n",
        "            if char.isdigit():\n",
        "                col_idx += int(char)\n",
        "            else:\n",
        "                piece_index = piece_to_index[char]\n",
        "                square_index = row_idx * 8 + col_idx\n",
        "                flat_index = square_index * 12 + piece_index\n",
        "                encoded[flat_index] = 1\n",
        "                col_idx += 1\n",
        "    return encoded\n",
        "\n",
        "def load_encoded_data(csv_file):\n",
        "    X, y = [], []\n",
        "    with open(csv_file, newline='') as f:\n",
        "        reader = csv.DictReader(f)\n",
        "        for row in reader:\n",
        "            fen = row[\"pos\"]\n",
        "            turn = int(row[\"turn\"])\n",
        "            result = int(row[\"result\"])\n",
        "            board_encoded = encode_board_only(fen)\n",
        "            input_vector = board_encoded + [turn]\n",
        "            X.append(input_vector)\n",
        "            y.append(result)\n",
        "    return np.array(X), np.array(y)"
      ],
      "metadata": {
        "id": "VoOke_vVEWul"
      },
      "execution_count": 4,
      "outputs": []
    },
    {
      "cell_type": "code",
      "source": [
        "X, y = load_encoded_data(\"game_positions_mini.csv\")\n",
        "X_train, X_test, y_train, y_test = train_test_split(X, y, test_size=0.2, random_state=42, stratify=y)\n",
        "\n",
        "print(\"Training size:\", len(X_train))\n",
        "print(\"Test size:\", len(X_test))"
      ],
      "metadata": {
        "colab": {
          "base_uri": "https://localhost:8080/"
        },
        "id": "UnuxXGCJFXoE",
        "outputId": "f2ccbb75-ceed-4433-e574-40aafe52973c"
      },
      "execution_count": 5,
      "outputs": [
        {
          "output_type": "stream",
          "name": "stdout",
          "text": [
            "Training size: 67922\n",
            "Test size: 16981\n"
          ]
        }
      ]
    },
    {
      "cell_type": "code",
      "execution_count": 7,
      "metadata": {
        "colab": {
          "base_uri": "https://localhost:8080/"
        },
        "id": "PIERPpPr0ri4",
        "outputId": "3e8e7f4e-2b19-48a4-98c5-fb42ed25e50a"
      },
      "outputs": [
        {
          "output_type": "stream",
          "name": "stdout",
          "text": [
            "Epoch 0, Loss: 0.7202569842338562\n",
            "Epoch 100, Loss: 0.1955203115940094\n",
            "Epoch 200, Loss: 0.14179018139839172\n",
            "Epoch 300, Loss: 0.12684014439582825\n",
            "Epoch 400, Loss: 0.12437286972999573\n",
            "Epoch 500, Loss: 0.1196068674325943\n",
            "Epoch 600, Loss: 0.11703334003686905\n",
            "Epoch 700, Loss: 0.11307268589735031\n",
            "Epoch 800, Loss: 0.11095265299081802\n",
            "Epoch 900, Loss: 0.10850003361701965\n"
          ]
        }
      ],
      "source": [
        "import torch\n",
        "import torch.nn as nn\n",
        "import torch.optim as optim\n",
        "\n",
        "class ChessNet(nn.Module):\n",
        "  def __init__(self):\n",
        "    super(ChessNet, self).__init__()\n",
        "    self.fc1 = nn.Linear(769, 128)\n",
        "    self.fc2 = nn.Linear(128, 64)\n",
        "    self.fc3 = nn.Linear(64, 1)\n",
        "    self.tanh = nn.Tanh()\n",
        "\n",
        "  def forward(self, x):\n",
        "    x = torch.relu(self.fc1(x))\n",
        "    x = torch.relu(self.fc2(x))\n",
        "    x = self.tanh(self.fc3(x))\n",
        "    return x\n",
        "\n",
        "# Create the model, loss, and optimizer\n",
        "model = ChessNet()\n",
        "criterion = nn.MSELoss()\n",
        "optimizer = optim.Adam(model.parameters(), lr=0.001)\n",
        "\n",
        "# Convert np arrays to tensors\n",
        "X_train = torch.tensor(np.array(X_train), dtype=torch.float32)\n",
        "y_train = torch.tensor(np.array(y_train), dtype=torch.float32).view(-1, 1)\n",
        "\n",
        "loss_vals = []\n",
        "for epoch in range(1000):\n",
        "    optimizer.zero_grad()\n",
        "    output = model(X_train)\n",
        "    loss = criterion(output, y_train)\n",
        "    loss.backward()\n",
        "    optimizer.step()\n",
        "\n",
        "    loss_vals.append(loss.item())  # Track loss\n",
        "    if epoch % 100 == 0:\n",
        "        print(f\"Epoch {epoch}, Loss: {loss.item()}\")"
      ]
    },
    {
      "cell_type": "code",
      "source": [
        "import matplotlib.pyplot as plt\n",
        "\n",
        "plt.plot(loss_vals)\n",
        "plt.xlabel(\"Epochs\")\n",
        "plt.ylabel(\"Loss\")\n",
        "plt.title(\"Training Loss Curve\")\n",
        "plt.show()"
      ],
      "metadata": {
        "colab": {
          "base_uri": "https://localhost:8080/",
          "height": 472
        },
        "id": "g66YXys4msEP",
        "outputId": "5222fd7b-3a3b-4eb1-d2ce-dc96afae0f44"
      },
      "execution_count": 8,
      "outputs": [
        {
          "output_type": "display_data",
          "data": {
            "text/plain": [
              "<Figure size 640x480 with 1 Axes>"
            ],
            "image/png": "[encoded data removed]"
          },
          "metadata": {}
        }
      ]
    },
    {
      "cell_type": "code",
      "execution_count": 15,
      "metadata": {
        "colab": {
          "base_uri": "https://localhost:8080/"
        },
        "id": "47YTWRDoV6OO",
        "outputId": "b5f3780c-9b0d-4140-ed3e-b6f60167bc49"
      },
      "outputs": [
        {
          "output_type": "stream",
          "name": "stdout",
          "text": [
            "Test Accuracy: 73.83%\n",
            "Test Loss (MSE): 0.2080\n"
          ]
        }
      ],
      "source": [
        "from sklearn.metrics import accuracy_score\n",
        "from sklearn.metrics import mean_squared_error\n",
        "\n",
        "# Convert test dataset to tensors\n",
        "X_test = torch.tensor(np.array(X_test), dtype=torch.float32)\n",
        "y_test = torch.tensor(np.array(y_test), dtype=torch.float32).view(-1, 1)\n",
        "\n",
        "# Set the model evaluation mode\n",
        "model.eval()\n",
        "\n",
        "# Disable gradients to pass through the NN\n",
        "with torch.no_grad():\n",
        "    output = model(X_test)\n",
        "\n",
        "# Label the outputs in terms of their range\n",
        "def label_output(value):\n",
        "    if value <= -0.33:\n",
        "        return -1\n",
        "    elif value <= 0.33:\n",
        "        return 0\n",
        "    else:\n",
        "        return 1\n",
        "\n",
        "# Apply the custom labeling function to the model output\n",
        "predictions = output.numpy().flatten()\n",
        "predicted_labels = np.array([label_output(val) for val in predictions])\n",
        "\n",
        "# Convert the true labels (y_test) to -1, 0, or 1\n",
        "true_labels = y_test.numpy().flatten()\n",
        "true_labels_labeled = np.array([label_output(val) for val in true_labels])\n",
        "\n",
        "# Calculate accuracy\n",
        "accuracy = accuracy_score(true_labels_labeled, predicted_labels)\n",
        "print(f\"Test Accuracy: {accuracy * 100:.2f}%\")\n",
        "\n",
        "# Calculate loss on the test dataset\n",
        "criterion = nn.MSELoss()\n",
        "test_loss = criterion(output, y_test)\n",
        "print(f\"Test Loss (MSE): {test_loss.item():.4f}\")"
      ]
    },
    {
      "cell_type": "code",
      "execution_count": 16,
      "metadata": {
        "colab": {
          "base_uri": "https://localhost:8080/"
        },
        "id": "akJ-S_1PWKZV",
        "outputId": "8f8c319d-1117-473f-9b72-9664186afbef"
      },
      "outputs": [
        {
          "output_type": "stream",
          "name": "stdout",
          "text": [
            "tensor([-1.])\n",
            "tensor([-0.9707])\n"
          ]
        }
      ],
      "source": [
        "# How accurate is the move to a high-level player\n",
        "\n",
        "pos = X_test[0]\n",
        "true = y_test[0]\n",
        "\n",
        "with torch.no_grad():\n",
        "    output = model(pos)\n",
        "    prediction = output\n",
        "\n",
        "print(true)\n",
        "print(prediction)"
      ]
    }
  ],
  "metadata": {
    "colab": {
      "provenance": [],
      "include_colab_link": true
    },
    "kernelspec": {
      "display_name": "Python 3",
      "name": "python3"
    },
    "language_info": {
      "name": "python"
    }
  },
  "nbformat": 4,
  "nbformat_minor": 0
}