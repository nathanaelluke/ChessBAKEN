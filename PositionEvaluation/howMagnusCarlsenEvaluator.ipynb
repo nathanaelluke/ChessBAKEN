{
  "cells": [
    {
      "cell_type": "markdown",
      "metadata": {
        "id": "view-in-github",
        "colab_type": "text"
      },
      "source": [
        "<a href=\"https://colab.research.google.com/github/averyrair/ChessBAKEN/blob/main/PositionEvaluation/howMagnusCarlsenEvaluator.ipynb\" target=\"_parent\"><img src=\"https://colab.research.google.com/assets/colab-badge.svg\" alt=\"Open In Colab\"/></a>"
      ]
    },
    {
      "cell_type": "code",
      "execution_count": null,
      "metadata": {
        "colab": {
          "base_uri": "https://localhost:8080/"
        },
        "id": "SjTh7tO91IOK",
        "outputId": "25d3322d-586c-4e5e-a3bb-b5476f57ca41"
      },
      "outputs": [
        {
          "name": "stdout",
          "output_type": "stream",
          "text": [
            "Requirement already satisfied: chess in /usr/local/lib/python3.11/dist-packages (1.11.2)\n",
            "Requirement already satisfied: stockfish in /usr/local/lib/python3.11/dist-packages (3.28.0)\n",
            "Reading package lists... Done\n",
            "Building dependency tree... Done\n",
            "Reading state information... Done\n",
            "Suggested packages:\n",
            "  polyglot xboard | scid\n",
            "The following NEW packages will be installed:\n",
            "  stockfish\n",
            "0 upgraded, 1 newly installed, 0 to remove and 29 not upgraded.\n",
            "Need to get 24.8 MB of archives.\n",
            "After this operation, 47.4 MB of additional disk space will be used.\n",
            "Get:1 http://archive.ubuntu.com/ubuntu jammy/universe amd64 stockfish amd64 14.1-1 [24.8 MB]\n",
            "Fetched 24.8 MB in 0s (55.6 MB/s)\n",
            "Selecting previously unselected package stockfish.\n",
            "(Reading database ... 126209 files and directories currently installed.)\n",
            "Preparing to unpack .../stockfish_14.1-1_amd64.deb ...\n",
            "Unpacking stockfish (14.1-1) ...\n",
            "Setting up stockfish (14.1-1) ...\n",
            "Processing triggers for man-db (2.10.2-1) ...\n"
          ]
        }
      ],
      "source": [
        "!pip install chess\n",
        "!pip install stockfish\n",
        "!apt install stockfish"
      ]
    },
    {
      "cell_type": "code",
      "source": [
        "#@title Import PGN and Export CSV\n",
        "\n",
        "import chess.pgn\n",
        "#if not os.path.exists(os.path.join(chess_dir, 'moveSelectorDataset.csv')):\n",
        "if 0:\n",
        "  pgn_dir = os.path.join(chess_dir, 'KingBase2019-pgn')\n",
        "  pgnFiles = [os.path.join(pgn_dir, f) for f in os.listdir(pgn_dir) if f.endswith('.pgn')]\n",
        "\n",
        "  # Read every PGN file in the directory.\n",
        "  iterator = 0\n",
        "  for pgnFile in pgnFiles:\n",
        "    print(pgnFile)\n",
        "    pgn = open(pgnFile)\n",
        "\n",
        "    # Prepare CSV to export dataset.\n",
        "    with open(os.path.join(chess_dir, 'moveSelectorDataset' + pgnFile[74:81] +'.csv'), 'w') as csvfile:\n",
        "      csvwriter = csv.writer(csvfile)\n",
        "      #csvwriter.writeheader(['Label', 'Input'])\n",
        "\n",
        "      # Read every game in the PGN file.\n",
        "      while True:\n",
        "        game = chess.pgn.read_game(pgn)\n",
        "        if game is None: break\n",
        "        iterator += 1\n",
        "        if iterator % 500 == 0:\n",
        "          print(iterator)\n",
        "          #break\n",
        "        board = game.board()\n",
        "\n",
        "        # New data point for every move in the game.\n",
        "        gameMoves = list(game.mainline_moves())\n",
        "        for i in range(len(gameMoves)-1):\n",
        "          board.push(gameMoves[i])\n",
        "          csvwriter.writerow([gameMoves[i+1], board.fen().split(\" \")[0]])"
      ],
      "metadata": {
        "id": "yT3mlF7ao3Za"
      },
      "execution_count": null,
      "outputs": []
    },
    {
      "cell_type": "code",
      "source": [
        "import chess\n",
        "import csv\n",
        "\n",
        "# The number of possible pieces and square states (8*8*6*2)\n",
        "NUM_BOARD_NODES = 768\n",
        "\n",
        "# Generate the mapping matrix (only needs to be done once)\n",
        "def getMappingMatrix():\n",
        "    moveMap = [[[[0 for l in range(8)] for k in range(\n",
        "        8)] for j in range(8)] for i in range(8)]\n",
        "    offset = 0\n",
        "    for i in range(8):\n",
        "        for j in range(8):\n",
        "            for k in range(8):\n",
        "                for l in range(8):\n",
        "                    if canMove((i, j), (k, l)):\n",
        "                        moveMap[i][j][k][l] = offset\n",
        "                        offset += 1\n",
        "    return moveMap\n",
        "\n",
        "# Encode a board position and legal moves into a binary array\n",
        "def encodeSelector(boardFEN, moves, moveMap):\n",
        "    # Encode board position\n",
        "    encodedBoard = [0 for _ in range(NUM_BOARD_NODES)]\n",
        "    rowsFEN = boardFEN.split('/')\n",
        "    for i in range(8):\n",
        "        col = 0\n",
        "        for j in range(len(rowsFEN[i])):\n",
        "            if rowsFEN[i][j].isdigit():\n",
        "                col += ord(rowsFEN[i][j])-48\n",
        "            else:\n",
        "                match rowsFEN[i][j]:\n",
        "                    case 'P':\n",
        "                        idx = (8*6*2*col) + (6*2*i) + (0*2) + 0\n",
        "                        encodedBoard[idx] = 1\n",
        "                    case 'N':\n",
        "                        idx = (8*6*2*col) + (6*2*i) + (1*2) + 0\n",
        "                        encodedBoard[idx] = 1\n",
        "                    case 'B':\n",
        "                        idx = (8*6*2*col) + (6*2*i) + (2*2) + 0\n",
        "                        encodedBoard[idx] = 1\n",
        "                    case 'R':\n",
        "                        idx = (8*6*2*col) + (6*2*i) + (3*2) + 0\n",
        "                        encodedBoard[idx] = 1\n",
        "                    case 'Q':\n",
        "                        idx = (8*6*2*col) + (6*2*i) + (4*2) + 0\n",
        "                        encodedBoard[idx] = 1\n",
        "                    case 'K':\n",
        "                        idx = (8*6*2*col) + (6*2*i) + (5*2) + 0\n",
        "                        encodedBoard[idx] = 1\n",
        "                    case 'p':\n",
        "                        idx = (8*6*2*col) + (6*2*i) + (0*2) + 1\n",
        "                        encodedBoard[idx] = 1\n",
        "                    case 'n':\n",
        "                        idx = (8*6*2*col) + (6*2*i) + (1*2) + 1\n",
        "                        encodedBoard[idx] = 1\n",
        "                    case 'b':\n",
        "                        idx = (8*6*2*col) + (6*2*i) + (2*2) + 1\n",
        "                        encodedBoard[idx] = 1\n",
        "                    case 'r':\n",
        "                        idx = (8*6*2*col) + (6*2*i) + (3*2) + 1\n",
        "                        encodedBoard[idx] = 1\n",
        "                    case 'q':\n",
        "                        idx = (8*6*2*col) + (6*2*i) + (4*2) + 1\n",
        "                        encodedBoard[idx] = 1\n",
        "                    case 'k':\n",
        "                        idx = (8*6*2*col) + (6*2*i) + (5*2) + 1\n",
        "                        encodedBoard[idx] = 1\n",
        "                col += 1\n",
        "\n",
        "    # Combine into single list\n",
        "    return encodedBoard"
      ],
      "metadata": {
        "id": "GoOfoyzMo7Wp"
      },
      "execution_count": null,
      "outputs": []
    },
    {
      "cell_type": "code",
      "source": [
        "# Test the encoder and decoder\n",
        "def testEncodeDecode():\n",
        "    # Encode board\n",
        "    moveMap = getMappingMatrix()\n",
        "    with open('MoveSelector/moveSelectorDataset.csv', 'r') as file:\n",
        "        data = list(csv.reader(file))\n",
        "    curr = data[250]\n",
        "    encoded = encodeSelector(curr[1], curr[2], moveMap)\n",
        "\n",
        "testEncodeDecode()"
      ],
      "metadata": {
        "id": "K4pn2ihMpTB0"
      },
      "execution_count": null,
      "outputs": []
    },
    {
      "cell_type": "code",
      "execution_count": null,
      "metadata": {
        "id": "qBzDAQMJOd7_"
      },
      "outputs": [],
      "source": [
        "import requests\n",
        "\n",
        "# Magnus Carlsen's Lichess username is \"DrNykterstein\"\n",
        "LICHESS_API = \"https://lichess.org/api/games/user/DrNykterstein\"\n",
        "\n",
        "def download_games(username, max_games=10):\n",
        "    \"\"\"Download Magnus Carlsen's games from Lichess.\"\"\"\n",
        "    params = {\n",
        "        \"max\": max_games,\n",
        "        \"moves\": \"true\",\n",
        "        \"pgnInJson\": \"true\",\n",
        "        \"evals\": \"false\"\n",
        "    }\n",
        "    response = requests.get(f\"https://lichess.org/api/games/user/{username}\", params=params)\n",
        "\n",
        "    if response.status_code == 200:\n",
        "        return response.text\n",
        "    else:\n",
        "        print(f\"Error: {response.status_code}\")\n",
        "        return None\n",
        "\n",
        "pgn_games = download_games(\"DrNykterstein\", max_games=5000)"
      ]
    },
    {
      "cell_type": "code",
      "execution_count": null,
      "metadata": {
        "id": "7BsHOBN6Pate"
      },
      "outputs": [],
      "source": [
        "import chess\n",
        "import chess.pgn\n",
        "import io\n",
        "\n",
        "def extract_positions_from_pgn(pgn_data):\n",
        "    positions = []\n",
        "\n",
        "    # Create a file-like object from the PGN string\n",
        "    pgn_io = io.StringIO(pgn_data)\n",
        "    while True:\n",
        "        # Read a PGN\n",
        "        game = chess.pgn.read_game(pgn_io)\n",
        "        if game is None:\n",
        "            break\n",
        "\n",
        "        white_player = game.headers.get(\"White\", \"\")\n",
        "        black_player = game.headers.get(\"Black\", \"\")\n",
        "        result = game.headers.get(\"Result\", \"\")\n",
        "\n",
        "        # Extract the label for who won the game\n",
        "        if white_player == \"DrNykterstein\":\n",
        "            label = 1.0 if result == \"1-0\" else 0.0 if result == \"0-1\" else None\n",
        "        elif black_player == \"DrNykterstein\":\n",
        "            label = 1.0 if result == \"0-1\" else 0.0 if result == \"1-0\" else None\n",
        "        else:\n",
        "            label = None\n",
        "\n",
        "        # Save all of the board positions for that game and set the label\n",
        "        # to 1 if he won and 0 if he lost\n",
        "        # If it was a tie, don't include positions from that game\n",
        "        if label is not None:\n",
        "            board = game.board()\n",
        "            for move in game.mainline_moves():\n",
        "                board.push(move)\n",
        "                positions.append((board.fen(), label))\n",
        "\n",
        "    return positions\n",
        "\n",
        "board_positions = extract_positions_from_pgn(pgn_games)"
      ]
    },
    {
      "cell_type": "code",
      "source": [
        "def king_safety(board):\n",
        "    white_king_square = board.king(chess.WHITE)\n",
        "    black_king_square = board.king(chess.BLACK)\n",
        "\n",
        "    # Helper function to evaluate safety of a king given its position and color\n",
        "    def evaluate_king(board, king_square, color):\n",
        "        if king_square is None:\n",
        "            return 0\n",
        "\n",
        "        # Get the king's coordinates\n",
        "        safety_score = 1.0\n",
        "        file = chess.square_file(king_square)\n",
        "        rank = chess.square_rank(king_square)\n",
        "\n",
        "        # Check where the pawns are shielding the king\n",
        "        pawn_squares = [\n",
        "            chess.square(file + file_offset, rank + (1 if color == chess.WHITE else -1))\n",
        "            for file_offset in [-1, 0, 1]\n",
        "            if 0 <= file + file_offset < 8 and 0 <= rank + (1 if color == chess.WHITE else -1) < 8\n",
        "        ]\n",
        "\n",
        "        # Adjust the safety score by the amount of pawns protecting the king\n",
        "        pawn_shield = sum(1 for sq in pawn_squares if board.piece_at(sq) and board.piece_at(sq).symbol().lower() == 'p')\n",
        "        safety_score -= (3 - pawn_shield) * 0.1\n",
        "\n",
        "        # Check for open files that the king is on\n",
        "        file = chess.square_file(king_square)\n",
        "        open_file_penalty = 0.2 if all(board.piece_at(chess.square(file, r)) is None for r in range(8)) else 0\n",
        "        safety_score -= open_file_penalty\n",
        "\n",
        "        enemy_pieces = sum(1 for sq in chess.SQUARES if board.is_attacked_by(not color, sq) and chess.square_distance(sq, king_square) <= 2)\n",
        "        safety_score -= min(enemy_pieces * 0.05, 0.3)\n",
        "\n",
        "        # Check the mobility of the king\n",
        "        king_moves = len(list(board.legal_moves))\n",
        "        mobility_penalty = 0.2 if king_moves < 2 else 0\n",
        "        safety_score -= mobility_penalty\n",
        "\n",
        "        # Penalize if the king is in check\n",
        "        if board.is_check():\n",
        "            safety_score -= 0.3\n",
        "\n",
        "        return max(0, min(safety_score, 1))\n",
        "\n",
        "    white_safety = evaluate_king(board, white_king_square, chess.WHITE)\n",
        "    black_safety = evaluate_king(board, black_king_square, chess.BLACK)\n",
        "\n",
        "    return white_safety, black_safety"
      ],
      "metadata": {
        "id": "PaTrz1s6pE-R"
      },
      "execution_count": null,
      "outputs": []
    },
    {
      "cell_type": "code",
      "source": [
        "def piece_safety(board):\n",
        "    # Assign values to pieces\n",
        "    piece_values = {\n",
        "        chess.PAWN: 1, chess.KNIGHT: 3, chess.BISHOP: 3,\n",
        "        chess.ROOK: 5, chess.QUEEN: 9, chess.KING: 0\n",
        "    }\n",
        "\n",
        "    white_safety = 0\n",
        "    black_safety = 0\n",
        "\n",
        "    for square in chess.SQUARES:\n",
        "        piece = board.piece_at(square)\n",
        "        if piece:\n",
        "            # Check if the piece is under attack\n",
        "            attackers = board.attackers(not piece.color, square)\n",
        "            if attackers:\n",
        "                # Penalize the score if the piece is under attack\n",
        "                piece_value = piece_values.get(piece.piece_type, 0)\n",
        "                if piece.color == chess.WHITE:\n",
        "                    white_safety -= piece_value\n",
        "                else:\n",
        "                    black_safety -= piece_value\n",
        "\n",
        "    return white_safety, black_safety"
      ],
      "metadata": {
        "id": "Bwg1twCRpF9Y"
      },
      "execution_count": null,
      "outputs": []
    },
    {
      "cell_type": "code",
      "source": [
        "def evaluate_material(board):\n",
        "    # Assign values to pieces\n",
        "    piece_values = {\n",
        "        chess.PAWN: 1, chess.KNIGHT: 3, chess.BISHOP: 3,\n",
        "        chess.ROOK: 5, chess.QUEEN: 9, chess.KING: 0\n",
        "    }\n",
        "\n",
        "    white_score = 0\n",
        "    black_score = 0\n",
        "\n",
        "    for square in chess.SQUARES:\n",
        "        piece = board.piece_at(square)\n",
        "        if piece:\n",
        "            # Retrieve the material value of the pieces\n",
        "            value = piece_values.get(piece.piece_type, 0)\n",
        "            if piece.color == chess.WHITE:\n",
        "                white_score += value\n",
        "            else:\n",
        "                black_score += value\n",
        "\n",
        "    return white_score, black_score"
      ],
      "metadata": {
        "id": "1D7F7UV7qSFm"
      },
      "execution_count": null,
      "outputs": []
    },
    {
      "cell_type": "code",
      "execution_count": null,
      "metadata": {
        "colab": {
          "base_uri": "https://localhost:8080/"
        },
        "id": "k5JoMLknUxA0",
        "outputId": "5d1d1696-1d72-4cf2-edca-a84d76da56db"
      },
      "outputs": [
        {
          "output_type": "stream",
          "name": "stdout",
          "text": [
            "Training set size: 300643\n",
            "Testing set size: 75161\n"
          ]
        }
      ],
      "source": [
        "import numpy as np\n",
        "from sklearn.model_selection import train_test_split\n",
        "\n",
        "def fen_to_array(fen):\n",
        "    # Set a mapping to all of the pieces\n",
        "    piece_map = {\n",
        "        'p': -1, 'n': -2, 'b': -3, 'r': -4, 'q': -5, 'k': -6,\n",
        "        'P': 1, 'N': 2, 'B': 3, 'R': 4, 'Q': 5, 'K': 6,\n",
        "        '.': 0\n",
        "    }\n",
        "\n",
        "    # Create a board\n",
        "    board = chess.Board(fen)\n",
        "    board_array = np.zeros(64, dtype=int)\n",
        "\n",
        "    # Fill the board with pieces\n",
        "    for square in chess.SQUARES:\n",
        "        piece = board.piece_at(square)\n",
        "        board_array[square] = piece_map.get(piece.symbol(), 0) if piece else 0\n",
        "\n",
        "    # Calculate features for the given board position\n",
        "    white_king_safety, black_king_safety = king_safety(board)\n",
        "    white_piece_safety, black_piece_safety = piece_safety(board)\n",
        "    white_material, black_material = evaluate_material(board)\n",
        "\n",
        "    return np.append(board_array, [\n",
        "        white_king_safety, black_king_safety,\n",
        "        white_piece_safety, black_piece_safety,\n",
        "        white_material, black_material\n",
        "    ])\n",
        "\n",
        "X = []\n",
        "y = []\n",
        "for fen, label in board_positions:\n",
        "    try:\n",
        "        X.append(fen_to_array(fen))\n",
        "        y.append(label)\n",
        "    except:\n",
        "        continue\n",
        "\n",
        "# for fen, label in board_positions:\n",
        "#     X.append(fen_to_array(fen))\n",
        "#     y.append(label)\n",
        "\n",
        "X_train, X_test, y_train, y_test = train_test_split(X, y, test_size=0.2, random_state=42)\n",
        "\n",
        "print(f\"Training set size: {len(X_train)}\")\n",
        "print(f\"Testing set size: {len(X_test)}\")"
      ]
    },
    {
      "cell_type": "code",
      "execution_count": null,
      "metadata": {
        "colab": {
          "base_uri": "https://localhost:8080/"
        },
        "id": "PIERPpPr0ri4",
        "outputId": "e591efb1-f196-4094-dd48-1ada9be47c6a"
      },
      "outputs": [
        {
          "output_type": "stream",
          "name": "stdout",
          "text": [
            "Epoch 0, Loss: 0.7728838324546814\n",
            "Epoch 100, Loss: 0.5761255025863647\n",
            "Epoch 200, Loss: 0.5474900007247925\n",
            "Epoch 300, Loss: 0.5280006527900696\n",
            "Epoch 400, Loss: 0.5154229998588562\n",
            "Epoch 500, Loss: 0.5073382258415222\n",
            "Epoch 600, Loss: 0.49986737966537476\n",
            "Epoch 700, Loss: 0.4944581687450409\n",
            "Epoch 800, Loss: 0.48951077461242676\n",
            "Epoch 900, Loss: 0.48519501090049744\n"
          ]
        }
      ],
      "source": [
        "import torch\n",
        "import torch.nn as nn\n",
        "import torch.optim as optim\n",
        "\n",
        "# Simple NN architeture\n",
        "class ChessNet(nn.Module):\n",
        "    def __init__(self):\n",
        "        super(ChessNet, self).__init__()\n",
        "        # self.fc1 = nn.Linear(64, 128)\n",
        "        self.fc1 = nn.Linear(70, 128)\n",
        "        self.fc2 = nn.Linear(128, 64)\n",
        "        self.fc3 = nn.Linear(64, 1)\n",
        "        self.sigmoid = nn.Sigmoid()\n",
        "\n",
        "    def forward(self, x):\n",
        "        x = torch.relu(self.fc1(x))\n",
        "        x = torch.relu(self.fc2(x))\n",
        "        x = self.sigmoid(self.fc3(x))\n",
        "        return x\n",
        "\n",
        "# Create the model, loss, and optimizer\n",
        "model = ChessNet()\n",
        "criterion = nn.BCELoss()\n",
        "optimizer = optim.Adam(model.parameters(), lr=0.001)\n",
        "\n",
        "# Convert np arrays to tensors\n",
        "X_train = torch.tensor(np.array(X_train), dtype=torch.float32)\n",
        "y_train = torch.tensor(np.array(y_train), dtype=torch.float32).view(-1, 1)\n",
        "\n",
        "loss_vals = []\n",
        "for epoch in range(1000):\n",
        "    optimizer.zero_grad()\n",
        "    output = model(X_train)\n",
        "    loss = criterion(output, y_train)\n",
        "    loss.backward()\n",
        "    optimizer.step()\n",
        "\n",
        "    loss_vals.append(loss.item())\n",
        "    if epoch % 100 == 0:\n",
        "        print(f\"Epoch {epoch}, Loss: {loss.item()}\")\n"
      ]
    },
    {
      "cell_type": "code",
      "source": [
        "import matplotlib.pyplot as plt\n",
        "\n",
        "plt.plot(loss_vals)\n",
        "plt.xlabel(\"Epochs\")\n",
        "plt.ylabel(\"Loss\")\n",
        "plt.title(\"Training Loss Curve\")\n",
        "plt.show()"
      ],
      "metadata": {
        "colab": {
          "base_uri": "https://localhost:8080/",
          "height": 472
        },
        "id": "g66YXys4msEP",
        "outputId": "2dc4bfd6-f4f6-44ae-fac9-30433961b584"
      },
      "execution_count": null,
      "outputs": [
        {
          "output_type": "display_data",
          "data": {
            "text/plain": [
              "<Figure size 640x480 with 1 Axes>"
            ],
            "image/png": "[encoded data removed]"
          },
          "metadata": {}
        }
      ]
    },
    {
      "cell_type": "code",
      "execution_count": null,
      "metadata": {
        "colab": {
          "base_uri": "https://localhost:8080/"
        },
        "id": "47YTWRDoV6OO",
        "outputId": "03828af9-1a32-4cd7-8491-7a2b0ca62dbb"
      },
      "outputs": [
        {
          "output_type": "stream",
          "name": "stdout",
          "text": [
            "Test Accuracy: 74.81%\n",
            "Test Loss: 0.5323767066001892\n"
          ]
        }
      ],
      "source": [
        "from sklearn.metrics import accuracy_score\n",
        "\n",
        "# Convert test dataset to tensors\n",
        "X_test = torch.tensor(np.array(X_test), dtype=torch.float32)\n",
        "y_test = torch.tensor(np.array(y_test), dtype=torch.float32).view(-1, 1)\n",
        "\n",
        "# Set the model evaluation mode\n",
        "model.eval()\n",
        "\n",
        "# Disable gradients to pass through the NN\n",
        "with torch.no_grad():\n",
        "    output = model(X_test)\n",
        "\n",
        "# Threshold the output only to check the accuracy of the model compared\n",
        "# to the labels\n",
        "predictions = (output >= 0.5).float()\n",
        "\n",
        "accuracy = accuracy_score(y_test.numpy(), predictions.numpy())\n",
        "\n",
        "print(f\"Test Accuracy: {accuracy * 100:.2f}%\")\n",
        "\n",
        "# Calculate loss on the test dataset\n",
        "criterion = torch.nn.BCELoss()\n",
        "test_loss = criterion(output, y_test)\n",
        "print(f\"Test Loss: {test_loss.item()}\")"
      ]
    },
    {
      "cell_type": "code",
      "execution_count": null,
      "metadata": {
        "colab": {
          "base_uri": "https://localhost:8080/"
        },
        "id": "akJ-S_1PWKZV",
        "outputId": "b00fcc44-2cc5-4c69-e204-8876d9e06790"
      },
      "outputs": [
        {
          "output_type": "stream",
          "name": "stdout",
          "text": [
            "tensor([ 4.0000,  2.0000,  3.0000,  5.0000,  6.0000,  0.0000,  0.0000,  4.0000,\n",
            "         1.0000,  1.0000,  1.0000,  0.0000,  1.0000,  1.0000,  3.0000,  1.0000,\n",
            "         0.0000,  0.0000,  0.0000,  0.0000,  0.0000,  2.0000,  1.0000,  0.0000,\n",
            "         0.0000,  0.0000,  0.0000,  1.0000,  0.0000,  0.0000,  0.0000,  0.0000,\n",
            "         0.0000,  0.0000,  0.0000,  0.0000,  0.0000, -1.0000,  0.0000,  0.0000,\n",
            "         0.0000,  0.0000,  0.0000,  0.0000,  0.0000, -2.0000, -1.0000,  0.0000,\n",
            "        -1.0000, -1.0000, -1.0000, -1.0000, -1.0000,  0.0000,  0.0000, -1.0000,\n",
            "        -4.0000, -2.0000, -3.0000, -5.0000, -6.0000, -3.0000,  0.0000, -4.0000,\n",
            "         0.9000,  0.9000,  0.0000,  0.0000, 39.0000, 39.0000])\n",
            "tensor([1.])\n",
            "tensor([0.6919])\n"
          ]
        }
      ],
      "source": [
        "# How Magnus Carlsen is a move\n",
        "\n",
        "pos = X_test[0]\n",
        "true = y_test[0]\n",
        "\n",
        "print(pos)\n",
        "print(true)\n",
        "\n",
        "with torch.no_grad():\n",
        "    output = model(pos)\n",
        "    prediction = output\n",
        "\n",
        "print(prediction)"
      ]
    }
  ],
  "metadata": {
    "colab": {
      "provenance": [],
      "include_colab_link": true
    },
    "kernelspec": {
      "display_name": "Python 3",
      "name": "python3"
    },
    "language_info": {
      "name": "python"
    }
  },
  "nbformat": 4,
  "nbformat_minor": 0
}