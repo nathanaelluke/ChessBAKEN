{
  "cells": [
    {
      "cell_type": "markdown",
      "metadata": {
        "id": "view-in-github",
        "colab_type": "text"
      },
      "source": [
        "<a href=\"https://colab.research.google.com/github/averyrair/ChessBAKEN/blob/main/PositionEvaluation/EvaluatorBAKEN.ipynb\" target=\"_parent\"><img src=\"https://colab.research.google.com/assets/colab-badge.svg\" alt=\"Open In Colab\"/></a>"
      ]
    },
    {
      "cell_type": "code",
      "execution_count": 15,
      "metadata": {
        "colab": {
          "base_uri": "https://localhost:8080/"
        },
        "id": "SjTh7tO91IOK",
        "outputId": "3202e583-3439-4d01-d656-022d3033a6c8"
      },
      "outputs": [
        {
          "output_type": "stream",
          "name": "stdout",
          "text": [
            "Requirement already satisfied: chess in /usr/local/lib/python3.11/dist-packages (1.11.2)\n",
            "Requirement already satisfied: stockfish in /usr/local/lib/python3.11/dist-packages (3.28.0)\n",
            "Reading package lists... Done\n",
            "Building dependency tree... Done\n",
            "Reading state information... Done\n",
            "stockfish is already the newest version (14.1-1).\n",
            "0 upgraded, 0 newly installed, 0 to remove and 29 not upgraded.\n"
          ]
        }
      ],
      "source": [
        "!pip install chess\n",
        "!pip install stockfish\n",
        "!apt install stockfish"
      ]
    },
    {
      "cell_type": "code",
      "source": [
        "# @title Get board positions from inputted file\n",
        "\n",
        "import chess.pgn\n",
        "import csv\n",
        "\n",
        "# Open PGN file\n",
        "f = 'KingBase2019-A80-A99.pgn'\n",
        "pgn = open(f, encoding='latin-1')\n",
        "\n",
        "# Prepare CSV file\n",
        "with open(\"game_positions_mini.csv\", \"w\", newline='') as csvfile:\n",
        "    writer = csv.writer(csvfile)\n",
        "    writer.writerow([\"pos\", \"turn\", \"result\"])  # header\n",
        "\n",
        "    game_count = 0\n",
        "    while True:\n",
        "        game = chess.pgn.read_game(pgn)\n",
        "        if game is None:\n",
        "            break  # No more games\n",
        "\n",
        "        result_str = game.headers.get(\"Result\", \"*\")\n",
        "        if result_str == \"1-0\":\n",
        "            result = 1\n",
        "        elif result_str == \"0-1\":\n",
        "            result = -1\n",
        "        elif result_str == \"1/2-1/2\":\n",
        "            result = 0\n",
        "        else:\n",
        "            continue  # Skip games with unknown result\n",
        "\n",
        "        board = game.board()\n",
        "        for move in game.mainline_moves():\n",
        "            board.push(move)\n",
        "            pos = board.fen().split()[0]\n",
        "            turn = 1 if board.turn == chess.WHITE else 0\n",
        "            writer.writerow([pos, turn, result])\n",
        "\n",
        "        game_count += 1\n",
        "        if game_count % 100 == 0:\n",
        "            print(f\"Processed {game_count} games...\")\n",
        "        if game_count == 500:\n",
        "            break\n",
        "\n",
        "print(\"Done.\")"
      ],
      "metadata": {
        "colab": {
          "base_uri": "https://localhost:8080/"
        },
        "id": "k6QOrRDyEVqH",
        "outputId": "8af830bd-3cc1-4b5a-89eb-2d9394e41551"
      },
      "execution_count": 16,
      "outputs": [
        {
          "output_type": "stream",
          "name": "stdout",
          "text": [
            "Processed 100 games...\n",
            "Processed 200 games...\n",
            "Processed 300 games...\n",
            "Processed 400 games...\n",
            "Processed 500 games...\n",
            "Done.\n"
          ]
        }
      ]
    },
    {
      "cell_type": "code",
      "source": [
        "# @title Encode the 768 positions and current player turn\n",
        "\n",
        "import csv\n",
        "import numpy as np\n",
        "from sklearn.model_selection import train_test_split\n",
        "\n",
        "# One-hot encode 64 squares × 12 possible piece types\n",
        "def encode_board_only(fen: str) -> list:\n",
        "    encoded = [0] * 768\n",
        "    piece_to_index = {\n",
        "        'P': 0, 'N': 1, 'B': 2, 'R': 3, 'Q': 4, 'K': 5,\n",
        "        'p': 6, 'n': 7, 'b': 8, 'r': 9, 'q': 10, 'k': 11\n",
        "    }\n",
        "    rows = fen.split('/')\n",
        "    for row_idx, row in enumerate(rows):\n",
        "        col_idx = 0\n",
        "        for char in row:\n",
        "            if char.isdigit():\n",
        "                col_idx += int(char)\n",
        "            else:\n",
        "                piece_index = piece_to_index[char]\n",
        "                square_index = row_idx * 8 + col_idx\n",
        "                flat_index = square_index * 12 + piece_index\n",
        "                encoded[flat_index] = 1\n",
        "                col_idx += 1\n",
        "    return encoded\n",
        "\n",
        "def load_encoded_data(csv_file):\n",
        "    X, y = [], []\n",
        "    with open(csv_file, newline='') as f:\n",
        "        reader = csv.DictReader(f)\n",
        "        for row in reader:\n",
        "            fen = row[\"pos\"]\n",
        "            turn = int(row[\"turn\"])\n",
        "            result = int(row[\"result\"])\n",
        "            board_encoded = encode_board_only(fen)\n",
        "            input_vector = board_encoded + [turn]\n",
        "            X.append(input_vector)\n",
        "            y.append(result)\n",
        "    return np.array(X), np.array(y)"
      ],
      "metadata": {
        "id": "VoOke_vVEWul",
        "cellView": "form"
      },
      "execution_count": null,
      "outputs": []
    },
    {
      "cell_type": "code",
      "source": [
        "X, y = load_encoded_data(\"game_positions_mini.csv\")\n",
        "X_train, X_test, y_train, y_test = train_test_split(X, y, test_size=0.2, random_state=42, stratify=y)\n",
        "\n",
        "print(\"Training size:\", len(X_train))\n",
        "print(\"Test size:\", len(X_test))"
      ],
      "metadata": {
        "colab": {
          "base_uri": "https://localhost:8080/"
        },
        "id": "UnuxXGCJFXoE",
        "outputId": "13e0f7b8-6a4c-4a53-b8ce-d01146a0f276"
      },
      "execution_count": 17,
      "outputs": [
        {
          "output_type": "stream",
          "name": "stdout",
          "text": [
            "Training size: 34834\n",
            "Test size: 8709\n"
          ]
        }
      ]
    },
    {
      "cell_type": "code",
      "source": [
        "# @title CNN architecture\n",
        "\n",
        "import torch\n",
        "import torch.nn as nn\n",
        "import torch.optim as optim\n",
        "\n",
        "# Architecture reference from: https://www.diva-portal.org/smash/get/diva2:1366229/FULLTEXT01.pdf\n",
        "\n",
        "# 4 2d conv layers\n",
        "# First 3 layers have 3x3 kernel\n",
        "# Last layer has 2x2 kernel\n",
        "# Number of filters: 8, 16, 32, 64\n",
        "\n",
        "import torch\n",
        "import torch.nn as nn\n",
        "\n",
        "class ChessNet(nn.Module):\n",
        "    def __init__(self):\n",
        "        super(ChessNet, self).__init__()\n",
        "\n",
        "        # Convolutional layers\n",
        "        self.conv1 = nn.Conv2d(in_channels=1, out_channels=8, kernel_size=(1, 3), stride=1, padding=(0, 1))\n",
        "        self.conv2 = nn.Conv2d(in_channels=8, out_channels=16, kernel_size=(1, 3), stride=1, padding=(0, 1))\n",
        "        self.conv3 = nn.Conv2d(in_channels=16, out_channels=32, kernel_size=(1, 3), stride=1, padding=(0, 1))\n",
        "        self.conv4 = nn.Conv2d(in_channels=32, out_channels=64, kernel_size=(1, 3), stride=1, padding=(0, 1))\n",
        "\n",
        "        # Final convolution with 2x2 kernel as per original requirement\n",
        "        self.conv5 = nn.Conv2d(in_channels=64, out_channels=2, kernel_size=(1, 1), stride=1)\n",
        "\n",
        "        # Fully connected layer (adjusted size based on actual conv output)\n",
        "        self.fc = nn.Linear(2 * 769, 1)  # FIXED INPUT SIZE BASED ON OUTPUT SHAPE\n",
        "\n",
        "    def forward(self, x):\n",
        "        x = x.view(x.size(0), 1, 1, 769)  # Reshape to fit CNN\n",
        "\n",
        "        x = torch.relu(self.conv1(x))\n",
        "        x = torch.relu(self.conv2(x))\n",
        "        x = torch.relu(self.conv3(x))\n",
        "        x = torch.relu(self.conv4(x))\n",
        "        x = torch.tanh(self.conv5(x))  # Final activation\n",
        "\n",
        "        x = x.view(x.size(0), -1)  # Flatten for FC layer\n",
        "        x = self.fc(x)\n",
        "        return x\n",
        "\n",
        "model = ChessNet()\n",
        "criterion = nn.MSELoss()\n",
        "optimizer = optim.Adam(model.parameters(), lr=0.001)\n",
        "\n",
        "# Convert NumPy arrays to tensors\n",
        "X_train = torch.from_numpy(np.array(X_train)).float()\n",
        "y_train = torch.from_numpy(np.array(y_train)).float().view(-1, 1)\n",
        "\n",
        "# Training loop with batching\n",
        "loss_vals = []\n",
        "batch_size = 100\n",
        "num_epochs = 100\n",
        "\n",
        "for epoch in range(num_epochs):\n",
        "    optimizer.zero_grad()\n",
        "\n",
        "    # Mini-batch training\n",
        "    for i in range(0, len(X_train), batch_size):\n",
        "        x_batch = X_train[i:i+batch_size]\n",
        "        y_batch = y_train[i:i+batch_size]\n",
        "\n",
        "        output = model(x_batch)\n",
        "        loss = criterion(output, y_batch)\n",
        "\n",
        "        loss.backward()\n",
        "        optimizer.step()\n",
        "\n",
        "    loss_vals.append(loss.item())\n",
        "\n",
        "    print(f\"Epoch {epoch}, Loss: {loss.item()}\")\n",
        "    # if epoch % 100 == 0:\n",
        "    #     print(f\"Epoch {epoch}, Loss: {loss.item()}\")"
      ],
      "metadata": {
        "id": "HhDUgy8TWlFX",
        "outputId": "7f2355f1-6ef1-4582-9b43-e4c8ec8aa836",
        "colab": {
          "base_uri": "https://localhost:8080/"
        }
      },
      "execution_count": 18,
      "outputs": [
        {
          "output_type": "stream",
          "name": "stdout",
          "text": [
            "Epoch 0, Loss: 112.2868423461914\n",
            "Epoch 1, Loss: 101.93761444091797\n",
            "Epoch 2, Loss: 40.75010681152344\n",
            "Epoch 3, Loss: 17.177980422973633\n",
            "Epoch 4, Loss: 170.61769104003906\n",
            "Epoch 5, Loss: 2.942310094833374\n",
            "Epoch 6, Loss: 2.372333526611328\n",
            "Epoch 7, Loss: 13.795859336853027\n",
            "Epoch 8, Loss: 32.46324157714844\n",
            "Epoch 9, Loss: 27.400888442993164\n",
            "Epoch 10, Loss: 96.43260192871094\n",
            "Epoch 11, Loss: 315.9938659667969\n",
            "Epoch 12, Loss: 5.175187110900879\n",
            "Epoch 13, Loss: 90.66452026367188\n",
            "Epoch 14, Loss: 5.547248840332031\n",
            "Epoch 15, Loss: 0.8571216464042664\n",
            "Epoch 16, Loss: 3.292806386947632\n",
            "Epoch 17, Loss: 11.503211975097656\n",
            "Epoch 18, Loss: 10.278433799743652\n",
            "Epoch 19, Loss: 9.975112915039062\n",
            "Epoch 20, Loss: 13.218408584594727\n",
            "Epoch 21, Loss: 10.590988159179688\n",
            "Epoch 22, Loss: 4.538525581359863\n",
            "Epoch 23, Loss: 4.180248260498047\n",
            "Epoch 24, Loss: 3.9232096672058105\n",
            "Epoch 25, Loss: 1.1974691152572632\n",
            "Epoch 26, Loss: 1.98568856716156\n",
            "Epoch 27, Loss: 0.8484134078025818\n",
            "Epoch 28, Loss: 0.9802446961402893\n",
            "Epoch 29, Loss: 0.84658282995224\n",
            "Epoch 30, Loss: 0.845161497592926\n",
            "Epoch 31, Loss: 0.8469977378845215\n",
            "Epoch 32, Loss: 0.8579462170600891\n",
            "Epoch 33, Loss: 0.902472972869873\n",
            "Epoch 34, Loss: 0.8527273535728455\n",
            "Epoch 35, Loss: 0.8452613949775696\n",
            "Epoch 36, Loss: 0.8459343910217285\n",
            "Epoch 37, Loss: 0.8480091691017151\n",
            "Epoch 38, Loss: 0.8451564908027649\n",
            "Epoch 39, Loss: 0.8477039933204651\n",
            "Epoch 40, Loss: 0.8452203273773193\n",
            "Epoch 41, Loss: 0.8635241389274597\n",
            "Epoch 42, Loss: 0.855419397354126\n",
            "Epoch 43, Loss: 0.8536767959594727\n",
            "Epoch 44, Loss: 0.8459702730178833\n",
            "Epoch 45, Loss: 0.8453056216239929\n",
            "Epoch 46, Loss: 0.8453564047813416\n",
            "Epoch 47, Loss: 0.8451558947563171\n",
            "Epoch 48, Loss: 0.8451589941978455\n",
            "Epoch 49, Loss: 0.8454318046569824\n",
            "Epoch 50, Loss: 0.8454468846321106\n",
            "Epoch 51, Loss: 0.8454806804656982\n",
            "Epoch 52, Loss: 0.8585859537124634\n",
            "Epoch 53, Loss: 656.4448852539062\n",
            "Epoch 54, Loss: 239.1359100341797\n",
            "Epoch 55, Loss: 266.17950439453125\n",
            "Epoch 56, Loss: 511.1160888671875\n",
            "Epoch 57, Loss: 126.45320892333984\n",
            "Epoch 58, Loss: 51.27362060546875\n",
            "Epoch 59, Loss: 75.26365661621094\n",
            "Epoch 60, Loss: 5.539446830749512\n",
            "Epoch 61, Loss: 2.6876349449157715\n",
            "Epoch 62, Loss: 1.8843915462493896\n",
            "Epoch 63, Loss: 1.1401246786117554\n",
            "Epoch 64, Loss: 0.859851062297821\n",
            "Epoch 65, Loss: 0.845177948474884\n",
            "Epoch 66, Loss: 0.8466184735298157\n",
            "Epoch 67, Loss: 0.8456801176071167\n",
            "Epoch 68, Loss: 0.8462013006210327\n",
            "Epoch 69, Loss: 0.8457276225090027\n",
            "Epoch 70, Loss: 0.8461323976516724\n",
            "Epoch 71, Loss: 0.8456284999847412\n",
            "Epoch 72, Loss: 0.8461275100708008\n",
            "Epoch 73, Loss: 0.8454570770263672\n",
            "Epoch 74, Loss: 0.8459715247154236\n",
            "Epoch 75, Loss: 0.8453376889228821\n",
            "Epoch 76, Loss: 0.8453472852706909\n",
            "Epoch 77, Loss: 0.8451573848724365\n",
            "Epoch 78, Loss: 0.8456016778945923\n",
            "Epoch 79, Loss: 0.8493496775627136\n",
            "Epoch 80, Loss: 0.8614957332611084\n",
            "Epoch 81, Loss: 0.8502126336097717\n",
            "Epoch 82, Loss: 0.8623026013374329\n",
            "Epoch 83, Loss: 0.8506307005882263\n",
            "Epoch 84, Loss: 0.8576456904411316\n",
            "Epoch 85, Loss: 0.847759485244751\n",
            "Epoch 86, Loss: 0.8489446043968201\n",
            "Epoch 87, Loss: 0.8452103734016418\n",
            "Epoch 88, Loss: 0.8461797833442688\n",
            "Epoch 89, Loss: 0.8452174067497253\n",
            "Epoch 90, Loss: 0.8451565504074097\n",
            "Epoch 91, Loss: 0.8455337882041931\n",
            "Epoch 92, Loss: 0.847162663936615\n",
            "Epoch 93, Loss: 0.8482613563537598\n",
            "Epoch 94, Loss: 0.8637940883636475\n",
            "Epoch 95, Loss: 5.608800888061523\n",
            "Epoch 96, Loss: 744.4933471679688\n",
            "Epoch 97, Loss: 1241.939697265625\n",
            "Epoch 98, Loss: 50.834625244140625\n",
            "Epoch 99, Loss: 3.946899890899658\n"
          ]
        }
      ]
    },
    {
      "cell_type": "code",
      "execution_count": null,
      "metadata": {
        "colab": {
          "base_uri": "https://localhost:8080/"
        },
        "id": "PIERPpPr0ri4",
        "outputId": "3e8e7f4e-2b19-48a4-98c5-fb42ed25e50a"
      },
      "outputs": [
        {
          "output_type": "stream",
          "name": "stdout",
          "text": [
            "Epoch 0, Loss: 0.7202569842338562\n",
            "Epoch 100, Loss: 0.1955203115940094\n",
            "Epoch 200, Loss: 0.14179018139839172\n",
            "Epoch 300, Loss: 0.12684014439582825\n",
            "Epoch 400, Loss: 0.12437286972999573\n",
            "Epoch 500, Loss: 0.1196068674325943\n",
            "Epoch 600, Loss: 0.11703334003686905\n",
            "Epoch 700, Loss: 0.11307268589735031\n",
            "Epoch 800, Loss: 0.11095265299081802\n",
            "Epoch 900, Loss: 0.10850003361701965\n"
          ]
        }
      ],
      "source": [
        "# @title Basic NN architecture\n",
        "\n",
        "import torch\n",
        "import torch.nn as nn\n",
        "import torch.optim as optim\n",
        "\n",
        "class ChessNet(nn.Module):\n",
        "  def __init__(self):\n",
        "    super(ChessNet, self).__init__()\n",
        "    self.fc1 = nn.Linear(769, 128)\n",
        "    self.fc2 = nn.Linear(128, 64)\n",
        "    self.fc3 = nn.Linear(64, 1)\n",
        "    self.tanh = nn.Tanh()\n",
        "\n",
        "  def forward(self, x):\n",
        "    x = torch.relu(self.fc1(x))\n",
        "    x = torch.relu(self.fc2(x))\n",
        "    x = self.tanh(self.fc3(x))\n",
        "    return x\n",
        "\n",
        "# Create the model, loss, and optimizer\n",
        "model = ChessNet()\n",
        "criterion = nn.MSELoss()\n",
        "optimizer = optim.Adam(model.parameters(), lr=0.001)\n",
        "\n",
        "# Convert np arrays to tensors\n",
        "X_train = torch.tensor(np.array(X_train), dtype=torch.float32)\n",
        "y_train = torch.tensor(np.array(y_train), dtype=torch.float32).view(-1, 1)\n",
        "\n",
        "loss_vals = []\n",
        "for epoch in range(1000):\n",
        "    optimizer.zero_grad()\n",
        "    output = model(X_train)\n",
        "    loss = criterion(output, y_train)\n",
        "    loss.backward()\n",
        "    optimizer.step()\n",
        "\n",
        "    loss_vals.append(loss.item())  # Track loss\n",
        "    if epoch % 100 == 0:\n",
        "        print(f\"Epoch {epoch}, Loss: {loss.item()}\")"
      ]
    },
    {
      "cell_type": "code",
      "source": [
        "import matplotlib.pyplot as plt\n",
        "\n",
        "plt.plot(loss_vals)\n",
        "plt.xlabel(\"Epochs\")\n",
        "plt.ylabel(\"Loss\")\n",
        "plt.title(\"Training Loss Curve\")\n",
        "plt.show()"
      ],
      "metadata": {
        "colab": {
          "base_uri": "https://localhost:8080/",
          "height": 472
        },
        "id": "g66YXys4msEP",
        "outputId": "b9f540bd-2bef-423e-c048-316412058bf4"
      },
      "execution_count": 19,
      "outputs": [
        {
          "output_type": "display_data",
          "data": {
            "text/plain": [
              "<Figure size 640x480 with 1 Axes>"
            ],
            "image/png": "[encoded data removed]"
          },
          "metadata": {}
        }
      ]
    },
    {
      "cell_type": "code",
      "execution_count": 20,
      "metadata": {
        "colab": {
          "base_uri": "https://localhost:8080/"
        },
        "id": "47YTWRDoV6OO",
        "outputId": "9b283203-15d1-4921-c4c0-7719c1f4f5fd"
      },
      "outputs": [
        {
          "output_type": "stream",
          "name": "stdout",
          "text": [
            "Test Accuracy: 38.98%\n",
            "Test Loss (MSE): 3.7516\n"
          ]
        }
      ],
      "source": [
        "from sklearn.metrics import accuracy_score\n",
        "from sklearn.metrics import mean_squared_error\n",
        "\n",
        "# Convert test dataset to tensors\n",
        "X_test = torch.tensor(np.array(X_test), dtype=torch.float32)\n",
        "y_test = torch.tensor(np.array(y_test), dtype=torch.float32).view(-1, 1)\n",
        "\n",
        "# Set the model evaluation mode\n",
        "model.eval()\n",
        "\n",
        "# Disable gradients to pass through the NN\n",
        "with torch.no_grad():\n",
        "    output = model(X_test)\n",
        "\n",
        "# Label the outputs in terms of their range\n",
        "def label_output(value):\n",
        "    if value <= -0.33:\n",
        "        return -1\n",
        "    elif value <= 0.33:\n",
        "        return 0\n",
        "    else:\n",
        "        return 1\n",
        "\n",
        "# Apply the custom labeling function to the model output\n",
        "predictions = output.numpy().flatten()\n",
        "predicted_labels = np.array([label_output(val) for val in predictions])\n",
        "\n",
        "# Convert the true labels (y_test) to -1, 0, or 1\n",
        "true_labels = y_test.numpy().flatten()\n",
        "true_labels_labeled = np.array([label_output(val) for val in true_labels])\n",
        "\n",
        "# Calculate accuracy\n",
        "accuracy = accuracy_score(true_labels_labeled, predicted_labels)\n",
        "print(f\"Test Accuracy: {accuracy * 100:.2f}%\")\n",
        "\n",
        "# Calculate loss on the test dataset\n",
        "criterion = nn.MSELoss()\n",
        "test_loss = criterion(output, y_test)\n",
        "print(f\"Test Loss (MSE): {test_loss.item():.4f}\")"
      ]
    },
    {
      "cell_type": "code",
      "execution_count": 24,
      "metadata": {
        "colab": {
          "base_uri": "https://localhost:8080/"
        },
        "id": "akJ-S_1PWKZV",
        "outputId": "d223945f-c33a-4454-ca56-f0861a939296"
      },
      "outputs": [
        {
          "output_type": "stream",
          "name": "stdout",
          "text": [
            "tensor([-1.])\n",
            "tensor([[1.8060]])\n"
          ]
        }
      ],
      "source": [
        "# How accurate is the move to a high-level player\n",
        "\n",
        "pos = X_test[0]\n",
        "true = y_test[0]\n",
        "\n",
        "pos = pos.unsqueeze(0)\n",
        "\n",
        "with torch.no_grad():\n",
        "    output = model(pos)\n",
        "    prediction = output\n",
        "\n",
        "print(true)\n",
        "print(prediction)"
      ]
    }
  ],
  "metadata": {
    "colab": {
      "provenance": [],
      "include_colab_link": true
    },
    "kernelspec": {
      "display_name": "Python 3",
      "name": "python3"
    },
    "language_info": {
      "name": "python"
    }
  },
  "nbformat": 4,
  "nbformat_minor": 0
}