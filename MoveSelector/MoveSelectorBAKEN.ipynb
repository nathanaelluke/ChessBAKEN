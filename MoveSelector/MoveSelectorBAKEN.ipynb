{
  "nbformat": 4,
  "nbformat_minor": 0,
  "metadata": {
    "colab": {
      "provenance": [],
      "include_colab_link": true
    },
    "kernelspec": {
      "name": "python3",
      "display_name": "Python 3"
    },
    "language_info": {
      "name": "python"
    }
  },
  "cells": [
    {
      "cell_type": "markdown",
      "metadata": {
        "id": "view-in-github",
        "colab_type": "text"
      },
      "source": [
        "<a href=\"https://colab.research.google.com/github/averyrair/ChessBAKEN/blob/MoveSelect/MoveSelector/MoveSelectorBAKEN.ipynb\" target=\"_parent\"><img src=\"https://colab.research.google.com/assets/colab-badge.svg\" alt=\"Open In Colab\"/></a>"
      ]
    },
    {
      "cell_type": "code",
      "source": [
        "#@title Install Dependencies\n",
        "\n",
        "!pip install chess\n",
        "#!pip install stockfish\n",
        "#!apt install stockfish"
      ],
      "metadata": {
        "colab": {
          "base_uri": "https://localhost:8080/"
        },
        "id": "nMHzza4EUkGk",
        "outputId": "755d7e50-625e-4ec0-b537-510ceb5bdd04",
        "cellView": "form"
      },
      "execution_count": 1,
      "outputs": [
        {
          "output_type": "stream",
          "name": "stdout",
          "text": [
            "Collecting chess\n",
            "  Downloading chess-1.11.2.tar.gz (6.1 MB)\n",
            "\u001b[2K     \u001b[90m━━━━━━━━━━━━━━━━━━━━━━━━━━━━━━━━━━━━━━━━\u001b[0m \u001b[32m6.1/6.1 MB\u001b[0m \u001b[31m16.0 MB/s\u001b[0m eta \u001b[36m0:00:00\u001b[0m\n",
            "\u001b[?25h  Preparing metadata (setup.py) ... \u001b[?25l\u001b[?25hdone\n",
            "Building wheels for collected packages: chess\n",
            "  Building wheel for chess (setup.py) ... \u001b[?25l\u001b[?25hdone\n",
            "  Created wheel for chess: filename=chess-1.11.2-py3-none-any.whl size=147775 sha256=c7608f266d74e169e4734c6ba811649d09a32b6cc2430270422b37d9066d65fb\n",
            "  Stored in directory: /root/.cache/pip/wheels/fb/5d/5c/59a62d8a695285e59ec9c1f66add6f8a9ac4152499a2be0113\n",
            "Successfully built chess\n",
            "Installing collected packages: chess\n",
            "Successfully installed chess-1.11.2\n"
          ]
        }
      ]
    },
    {
      "cell_type": "code",
      "source": [
        "#@title Import Directories\n",
        "\n",
        "from google.colab import drive\n",
        "# For this to work, you need to have the \"Chess Bot BAKEN\" project shared with\n",
        "# the SAME email you linked this Colab to, presumably your GitHub email address.\n",
        "drive.mount('/content/drive', force_remount=1)\n",
        "chess_dir = '/content/drive/Shareddrives/Chess Bot BAKEN'"
      ],
      "metadata": {
        "id": "dR6-7kOo5ybX",
        "outputId": "ec7856ba-302a-443a-e88d-8d398c3e5f3d",
        "colab": {
          "base_uri": "https://localhost:8080/"
        },
        "cellView": "form"
      },
      "execution_count": 2,
      "outputs": [
        {
          "output_type": "stream",
          "name": "stdout",
          "text": [
            "Mounted at /content/drive\n"
          ]
        }
      ]
    },
    {
      "cell_type": "code",
      "execution_count": 3,
      "metadata": {
        "id": "U1gs1RsOT7Ha",
        "cellView": "form"
      },
      "outputs": [],
      "source": [
        "#@title Import Libraries\n",
        "\n",
        "import os\n",
        "import chess\n",
        "import chess.pgn\n",
        "import torch\n",
        "import torch.nn as nn\n",
        "from torch.utils.data import Dataset\n",
        "from torch.utils.data import DataLoader\n",
        "import csv\n",
        "import numpy as np\n",
        "import pandas as pd\n",
        "import matplotlib.pyplot as plt"
      ]
    },
    {
      "cell_type": "code",
      "source": [
        "#@title Define Custom Board Representation\n",
        "\n",
        "def customBoardRep(board):\n",
        "\n",
        "  return board.fen().split(\" \")[0]"
      ],
      "metadata": {
        "id": "VEEak8R7EdJ5",
        "cellView": "form"
      },
      "execution_count": 4,
      "outputs": []
    },
    {
      "cell_type": "code",
      "source": [
        "#@title Import PGN and Export CSV\n",
        "\n",
        "import chess.pgn\n",
        "#if not os.path.exists(os.path.join(chess_dir, 'moveSelectorDataset.csv')):\n",
        "if 0:\n",
        "  pgn_dir = os.path.join(chess_dir, 'KingBase2019-pgn')\n",
        "  pgnFiles = [os.path.join(pgn_dir, f) for f in os.listdir(pgn_dir) if f.endswith('.pgn')]\n",
        "\n",
        "  # Read every PGN file in the directory.\n",
        "  iterator = 0\n",
        "  for pgnFile in pgnFiles:\n",
        "    print(pgnFile)\n",
        "    pgn = open(pgnFile)\n",
        "\n",
        "    # Prepare CSV to export dataset.\n",
        "    with open(os.path.join(chess_dir, 'moveSelectorDataset' + pgnFile[74:81] +'.csv'), 'w') as csvfile:\n",
        "      csvwriter = csv.writer(csvfile)\n",
        "      #csvwriter.writeheader(['Label', 'Input'])\n",
        "\n",
        "      # Read every game in the PGN file.\n",
        "      while True:\n",
        "        game = chess.pgn.read_game(pgn)\n",
        "        if game is None: break\n",
        "        iterator += 1\n",
        "        if iterator % 500 == 0:\n",
        "          print(iterator)\n",
        "          #break\n",
        "        board = game.board()\n",
        "\n",
        "        # New data point for every move in the game.\n",
        "        gameMoves = list(game.mainline_moves())\n",
        "        for i in range(len(gameMoves)-1):\n",
        "          board.push(gameMoves[i])\n",
        "          legalMoves = \"\"\n",
        "          for m in list(board.legal_moves):\n",
        "            legalMoves = legalMoves + str(m) + \" \"\n",
        "          legalMoves = legalMoves.removesuffix(\" \")\n",
        "          #print(gameMoves[i+1], legalMoves, customBoardRep(board))\n",
        "          csvwriter.writerow([gameMoves[i+1], customBoardRep(board), legalMoves])"
      ],
      "metadata": {
        "id": "h-0ocmM9PmZo",
        "cellView": "form"
      },
      "execution_count": 5,
      "outputs": []
    },
    {
      "cell_type": "code",
      "source": [
        "#@title Define Fully-Connected Neural Network\n",
        "\n",
        "class myFCN(nn.Module):\n",
        "  def __init__(self, inSize, hiddenSizes, outSize):\n",
        "    super().__init__()\n",
        "    self.inSize = inSize\n",
        "    self.hiddenSize = hiddenSizes\n",
        "    self.outSize = outSize\n",
        "\n",
        "    self.lin1 = nn.Linear(inSize, hiddenSizes[0])\n",
        "    self.lin2 = nn.Linear(hiddenSizes[0], hiddenSizes[1])\n",
        "    self.lin3 = nn.Linear(hiddenSizes[1], outSize)\n",
        "\n",
        "    self.bn1 = nn.BatchNorm1d(hiddenSizes[0])\n",
        "    self.bn2 = nn.BatchNorm1d(hiddenSizes[1])\n",
        "\n",
        "    self.relu = nn.ReLU()\n",
        "\n",
        "  def forward(self, x):\n",
        "    x = self.relu(self.bn1(self.lin1(x)))\n",
        "    x = self.relu(self.bn2(self.lin2(x)))\n",
        "    x = self.relu(self.lin3(x))\n",
        "    return x"
      ],
      "metadata": {
        "id": "_xIwaUL2Ef0n",
        "cellView": "form"
      },
      "execution_count": 6,
      "outputs": []
    },
    {
      "cell_type": "code",
      "source": [
        "#@title Initialize Fully-Connected Neural Network\n",
        "\n",
        "moveSelector = myFCN(inSize=2560, hiddenSizes=[2200, 2200], outSize=1792)\n",
        "print(moveSelector)"
      ],
      "metadata": {
        "colab": {
          "base_uri": "https://localhost:8080/"
        },
        "id": "VtwHkKzU-30B",
        "outputId": "f8a22520-fead-4acd-89df-b8775cc1bdd5",
        "cellView": "form"
      },
      "execution_count": 7,
      "outputs": [
        {
          "output_type": "stream",
          "name": "stdout",
          "text": [
            "myFCN(\n",
            "  (lin1): Linear(in_features=2560, out_features=2200, bias=True)\n",
            "  (lin2): Linear(in_features=2200, out_features=2200, bias=True)\n",
            "  (lin3): Linear(in_features=2200, out_features=1792, bias=True)\n",
            "  (bn1): BatchNorm1d(2200, eps=1e-05, momentum=0.1, affine=True, track_running_stats=True)\n",
            "  (bn2): BatchNorm1d(2200, eps=1e-05, momentum=0.1, affine=True, track_running_stats=True)\n",
            "  (relu): ReLU()\n",
            ")\n"
          ]
        }
      ]
    },
    {
      "cell_type": "code",
      "source": [
        "#@title Define Dataset\n",
        "\n",
        "class ChessDataset(Dataset):\n",
        "    def __init__(self, chessgame_file, chess_dir, transform=None, target_transform=None):\n",
        "        self.game_labels = pd.read_csv(chessgame_file)\n",
        "        self.chess_dir = chess_dir  # This is not used. Everything is in the chessgame file.\n",
        "        self.transform = transform\n",
        "        self.target_transform = target_transform\n",
        "\n",
        "    def __len__(self):\n",
        "        return len(self.game_labels)\n",
        "\n",
        "    def __getitem__(self, idx):\n",
        "        label = self.game_labels.iloc[idx, 0]\n",
        "        gameState = self.game_labels.iloc[idx, 1]\n",
        "        if self.transform:\n",
        "            gameState = self.transform(gameState)\n",
        "        if self.target_transform:\n",
        "            label = self.target_transform(label)\n",
        "        return gameState, label"
      ],
      "metadata": {
        "id": "gEJ_xS5Kc-PN",
        "cellView": "form"
      },
      "execution_count": 8,
      "outputs": []
    },
    {
      "cell_type": "code",
      "source": [
        "#@title Define Encode/Decode Functions\n",
        "\n",
        "# The number of possible pieces and square states (8*8*6*2)\n",
        "NUM_BOARD_NODES = 768\n",
        "# The number of possible moves from any square to any other\n",
        "NUM_MOVE_NODES = 1792\n",
        "\n",
        "\n",
        "# Determines whether any piece could ever move from one square to another\n",
        "# Note: pass in start and end coordinates as tuples containing two ints\n",
        "def canMove(start, end):\n",
        "    # check duplicate\n",
        "    if start[0] == end[0] and start[1] == end[1]:\n",
        "        return False\n",
        "\n",
        "    # check row or col\n",
        "    if start[0] == end[0] or start[1] == end[1]:\n",
        "        return True\n",
        "\n",
        "    # check diagonal\n",
        "    if abs(start[0]-end[0]) == abs(start[1]-end[1]):\n",
        "        return True\n",
        "\n",
        "    # check knight\n",
        "    knightCases = [(1, 2), (1, -2), (-1, 2), (-1, -2),\n",
        "                   (2, 1), (2, -1), (-2, 1), (-2, -1)]\n",
        "    for c in knightCases:\n",
        "        if start[0] + c[0] == end[0] and start[1] + c[1] == end[1]:\n",
        "            return True\n",
        "\n",
        "    return False\n",
        "\n",
        "\n",
        "# Generate the mapping matrix (only needs to be done once)\n",
        "def getMappingMatrix():\n",
        "    moveMap = [[[[0 for l in range(8)] for k in range(\n",
        "        8)] for j in range(8)] for i in range(8)]\n",
        "    offset = 0\n",
        "    for i in range(8):\n",
        "        for j in range(8):\n",
        "            for k in range(8):\n",
        "                for l in range(8):\n",
        "                    if canMove((i, j), (k, l)):\n",
        "                        moveMap[i][j][k][l] = offset\n",
        "                        offset += 1\n",
        "    return moveMap\n",
        "\n",
        "# Encode a board position and legal moves into a binary array\n",
        "def encodeSelector(boardFEN, moves, moveMap):\n",
        "    # Encode board position\n",
        "    encodedBoard = [0 for _ in range(NUM_BOARD_NODES)]\n",
        "    rowsFEN = boardFEN.split('/')\n",
        "    for i in range(8):\n",
        "        col = 0\n",
        "        for j in range(len(rowsFEN[i])):\n",
        "            if rowsFEN[i][j].isdigit():\n",
        "                col += ord(rowsFEN[i][j])-48\n",
        "            else:\n",
        "                match rowsFEN[i][j]:\n",
        "                    case 'P':\n",
        "                        idx = (8*6*2*col) + (6*2*i) + (0*2) + 0\n",
        "                        encodedBoard[idx] = 1\n",
        "                    case 'N':\n",
        "                        idx = (8*6*2*col) + (6*2*i) + (1*2) + 0\n",
        "                        encodedBoard[idx] = 1\n",
        "                    case 'B':\n",
        "                        idx = (8*6*2*col) + (6*2*i) + (2*2) + 0\n",
        "                        encodedBoard[idx] = 1\n",
        "                    case 'R':\n",
        "                        idx = (8*6*2*col) + (6*2*i) + (3*2) + 0\n",
        "                        encodedBoard[idx] = 1\n",
        "                    case 'Q':\n",
        "                        idx = (8*6*2*col) + (6*2*i) + (4*2) + 0\n",
        "                        encodedBoard[idx] = 1\n",
        "                    case 'K':\n",
        "                        idx = (8*6*2*col) + (6*2*i) + (5*2) + 0\n",
        "                        encodedBoard[idx] = 1\n",
        "                    case 'p':\n",
        "                        idx = (8*6*2*col) + (6*2*i) + (0*2) + 1\n",
        "                        encodedBoard[idx] = 1\n",
        "                    case 'n':\n",
        "                        idx = (8*6*2*col) + (6*2*i) + (1*2) + 1\n",
        "                        encodedBoard[idx] = 1\n",
        "                    case 'b':\n",
        "                        idx = (8*6*2*col) + (6*2*i) + (2*2) + 1\n",
        "                        encodedBoard[idx] = 1\n",
        "                    case 'r':\n",
        "                        idx = (8*6*2*col) + (6*2*i) + (3*2) + 1\n",
        "                        encodedBoard[idx] = 1\n",
        "                    case 'q':\n",
        "                        idx = (8*6*2*col) + (6*2*i) + (4*2) + 1\n",
        "                        encodedBoard[idx] = 1\n",
        "                    case 'k':\n",
        "                        idx = (8*6*2*col) + (6*2*i) + (5*2) + 1\n",
        "                        encodedBoard[idx] = 1\n",
        "                col += 1\n",
        "\n",
        "    # Encode possible moves\n",
        "    encodedMoves = [0 for _ in range(NUM_MOVE_NODES)]\n",
        "    for m in moves.split(' '):\n",
        "        startCol = ord(str(m)[0])-97  # e.g. c -> 2\n",
        "        startRow = ord(str(m)[1])-49  # e.g. 8 -> 7\n",
        "        endCol = ord(str(m)[2])-97\n",
        "        endRow = ord(str(m)[3])-49\n",
        "        encodedMoves[(moveMap[startCol][startRow][endCol][endRow])] = 1\n",
        "\n",
        "    # Combine into single list\n",
        "    return encodedBoard + encodedMoves\n",
        "\n",
        "\n",
        "# Decode board position from a binary array of length 768\n",
        "def decodePosition(input):\n",
        "    # Create matrix of board\n",
        "    boardMatrix = [['.' for _ in range(8)] for _ in range(8)]\n",
        "\n",
        "    # Populate board\n",
        "    for i in range(len(input)):\n",
        "        if input[i] == 1:\n",
        "            piece = i % 12\n",
        "            # Piece: P = 0, R = 1, N = 2, B = 3, Q = 4, K = 5\n",
        "            # Color: W = 0, B = 1\n",
        "            pieceLabel = '.'\n",
        "            match piece:\n",
        "                case 0:\n",
        "                    pieceLabel = 'P'\n",
        "                case 1:\n",
        "                    pieceLabel = 'p'\n",
        "                case 2:\n",
        "                    pieceLabel = 'N'\n",
        "                case 3:\n",
        "                    pieceLabel = 'n'\n",
        "                case 4:\n",
        "                    pieceLabel = 'B'\n",
        "                case 5:\n",
        "                    pieceLabel = 'b'\n",
        "                case 6:\n",
        "                    pieceLabel = 'R'\n",
        "                case 7:\n",
        "                    pieceLabel = 'r'\n",
        "                case 8:\n",
        "                    pieceLabel = 'Q'\n",
        "                case 9:\n",
        "                    pieceLabel = 'q'\n",
        "                case 10:\n",
        "                    pieceLabel = 'K'\n",
        "                case 11:\n",
        "                    pieceLabel = 'k'\n",
        "            boardMatrix[int(i / (6*2)) % 8][int(i / (8*6*2))] = pieceLabel\n",
        "\n",
        "    # Convert to FEN notation\n",
        "    boardFEN = ''\n",
        "    for i in range(len(boardMatrix)):\n",
        "        empty = 0\n",
        "        for j in range(len(boardMatrix[i])):\n",
        "            if boardMatrix[i][j] == '.':\n",
        "                empty += 1\n",
        "            else:\n",
        "                if empty > 0:\n",
        "                    boardFEN += str(empty)\n",
        "                    empty = 0\n",
        "                boardFEN += boardMatrix[i][j]\n",
        "        if empty > 0:\n",
        "            boardFEN += str(empty)\n",
        "        if i < len(boardMatrix) - 1:\n",
        "            boardFEN += '/'\n",
        "\n",
        "    return chess.Board(boardFEN)\n",
        "\n",
        "\n",
        "# Decode moves from a binary array of length 1792\n",
        "# Returns a list of moves with start and end squares\n",
        "def decodeMoves(input, moveMap):\n",
        "    moves = []\n",
        "    for h in range(len(input)):\n",
        "        if input[h] > 0: # NOTE: may need to change this condition based on selector NN output\n",
        "            # Search moveMap to find the actual move squares\n",
        "            found = False\n",
        "            for i in range(8):\n",
        "                for j in range(8):\n",
        "                    for k in range(8):\n",
        "                        for l in range(8):\n",
        "                            if moveMap[i][j][k][l] == h:\n",
        "                                moves.append(chr(i+97) + chr(j+49) + chr(k+97) + chr(l+49))\n",
        "                                found = True\n",
        "                                break\n",
        "                        if found:\n",
        "                            break\n",
        "                    if found:\n",
        "                        break\n",
        "                if found:\n",
        "                    break\n",
        "    return moves\n",
        "\n",
        "### TESTING ###\n",
        "\n",
        "# Test the encoder and decoder\n",
        "def testEncodeDecode():\n",
        "    # Encode board\n",
        "    moveMap = getMappingMatrix()\n",
        "    with open(os.path.join(chess_dir, 'Move Selector Dataset', 'moveSelectorDatasetD70-D99.csv'), 'r') as file:\n",
        "        data = list(csv.reader(file))\n",
        "    curr = data[0]\n",
        "    encoded = encodeSelector(curr[1], curr[2], moveMap)\n",
        "\n",
        "    # Decode board\n",
        "    decodedBoard = decodePosition(encoded[0:NUM_BOARD_NODES])\n",
        "    decodedMoves = decodeMoves(encoded[-NUM_MOVE_NODES:], moveMap)\n",
        "\n",
        "    # Compare original and decoded position/moves\n",
        "    print('Original position and legal moves: ')\n",
        "    print(chess.Board(curr[1]))\n",
        "    print(sorted(curr[2].split(' ')))\n",
        "    print('---------------')\n",
        "    print('Decoded position and legal moves: ')\n",
        "    print(decodedBoard)\n",
        "    print(decodedMoves)\n",
        "\n",
        "testEncodeDecode()"
      ],
      "metadata": {
        "id": "rBWRuqgqqlOj",
        "outputId": "abd7b7f7-56cf-4988-a767-045e9ec93c9d",
        "colab": {
          "base_uri": "https://localhost:8080/"
        },
        "cellView": "form"
      },
      "execution_count": 9,
      "outputs": [
        {
          "output_type": "stream",
          "name": "stdout",
          "text": [
            "Original position and legal moves: \n",
            "r n b q k b n r\n",
            "p p p p p p p p\n",
            ". . . . . . . .\n",
            ". . . . . . . .\n",
            ". . . P . . . .\n",
            ". . . . . . . .\n",
            "P P P . P P P P\n",
            "R N B Q K B N R\n",
            "['a7a5', 'a7a6', 'b7b5', 'b7b6', 'b8a6', 'b8c6', 'c7c5', 'c7c6', 'd7d5', 'd7d6', 'e7e5', 'e7e6', 'f7f5', 'f7f6', 'g7g5', 'g7g6', 'g8f6', 'g8h6', 'h7h5', 'h7h6']\n",
            "---------------\n",
            "Decoded position and legal moves: \n",
            "r n b q k b n r\n",
            "p p p p p p p p\n",
            ". . . . . . . .\n",
            ". . . . . . . .\n",
            ". . . P . . . .\n",
            ". . . . . . . .\n",
            "P P P . P P P P\n",
            "R N B Q K B N R\n",
            "['a7a5', 'a7a6', 'b7b5', 'b7b6', 'b8a6', 'b8c6', 'c7c5', 'c7c6', 'd7d5', 'd7d6', 'e7e5', 'e7e6', 'f7f5', 'f7f6', 'g7g5', 'g7g6', 'g8f6', 'g8h6', 'h7h5', 'h7h6']\n"
          ]
        }
      ]
    },
    {
      "cell_type": "code",
      "source": [
        "#@title Test Stuff\n",
        "\n",
        "dataset = ChessDataset(chessgame_file=os.path.join(chess_dir, 'Move Selector Dataset/moveSelectorDatasetD70-D99.csv'), chess_dir=chess_dir)\n",
        "moveMap = getMappingMatrix()\n",
        "\n",
        "X = []\n",
        "for i in range(32):\n",
        "  X.append(encodeSelector(dataset[i][0], dataset[i][1], moveMap))\n",
        "\n",
        "output = moveSelector(torch.tensor(X).float())\n",
        "print(X[0])\n",
        "print(output[0])\n",
        "\n",
        "print(decodeMoves(output[0], moveMap))"
      ],
      "metadata": {
        "id": "VF6ZMksqYQ05",
        "outputId": "f03078fe-4b29-4e01-848c-3e81e1c9d7b1",
        "colab": {
          "base_uri": "https://localhost:8080/"
        }
      },
      "execution_count": 13,
      "outputs": [
        {
          "output_type": "stream",
          "name": "stdout",
          "text": [
            "[0, 0, 0, 0, 0, 0, 0, 1, 0, 0, 0, 0, 0, 1, 0, 0, 0, 0, 0, 0, 0, 0, 0, 0, 0, 0, 0, 0, 0, 0, 0, 0, 0, 0, 0, 0, 0, 0, 0, 0, 0, 0, 0, 0, 0, 0, 0, 0, 0, 0, 0, 0, 0, 0, 0, 0, 0, 0, 0, 0, 0, 0, 0, 0, 0, 0, 0, 0, 0, 0, 0, 0, 1, 0, 0, 0, 0, 0, 0, 0, 0, 0, 0, 0, 0, 0, 0, 0, 0, 0, 1, 0, 0, 0, 0, 0, 0, 0, 0, 1, 0, 0, 0, 0, 0, 0, 0, 0, 0, 1, 0, 0, 0, 0, 0, 0, 0, 0, 0, 0, 0, 0, 0, 0, 0, 0, 0, 0, 0, 0, 0, 0, 0, 0, 0, 0, 0, 0, 0, 0, 0, 0, 0, 0, 0, 0, 0, 0, 0, 0, 0, 0, 0, 0, 0, 0, 0, 0, 0, 0, 0, 0, 0, 0, 0, 0, 0, 0, 1, 0, 0, 0, 0, 0, 0, 0, 0, 0, 0, 0, 0, 0, 1, 0, 0, 0, 0, 0, 0, 0, 0, 0, 0, 0, 0, 0, 0, 1, 0, 0, 0, 0, 0, 0, 0, 1, 0, 0, 0, 0, 0, 0, 0, 0, 0, 0, 0, 0, 0, 0, 0, 0, 0, 0, 0, 0, 0, 0, 0, 0, 0, 0, 0, 0, 0, 0, 0, 0, 0, 0, 0, 0, 0, 0, 0, 0, 0, 0, 0, 0, 0, 0, 0, 0, 0, 0, 0, 0, 0, 0, 0, 0, 0, 0, 1, 0, 0, 0, 0, 0, 0, 0, 0, 0, 0, 0, 0, 0, 0, 0, 1, 0, 0, 0, 0, 0, 0, 0, 0, 0, 0, 0, 0, 0, 0, 0, 0, 1, 0, 0, 0, 1, 0, 0, 0, 0, 0, 0, 0, 0, 0, 0, 0, 0, 0, 0, 0, 0, 0, 0, 0, 0, 0, 0, 0, 0, 0, 0, 0, 0, 0, 0, 0, 0, 0, 0, 1, 0, 0, 0, 0, 0, 0, 0, 0, 0, 0, 0, 0, 0, 0, 0, 0, 0, 0, 0, 0, 0, 0, 0, 0, 0, 0, 0, 0, 0, 0, 0, 0, 0, 0, 0, 0, 0, 0, 0, 0, 0, 0, 0, 1, 0, 0, 0, 0, 0, 0, 0, 0, 0, 0, 0, 0, 0, 0, 1, 0, 1, 0, 0, 0, 0, 0, 0, 0, 0, 0, 0, 0, 0, 0, 0, 0, 0, 0, 0, 0, 0, 0, 0, 0, 0, 0, 0, 0, 0, 0, 0, 0, 0, 0, 0, 0, 0, 0, 0, 0, 0, 0, 0, 0, 0, 0, 0, 0, 0, 0, 0, 0, 0, 0, 0, 0, 0, 0, 0, 1, 0, 0, 0, 0, 0, 0, 0, 0, 0, 0, 0, 0, 0, 0, 0, 0, 0, 0, 0, 0, 0, 1, 0, 0, 0, 0, 0, 0, 1, 0, 0, 0, 0, 0, 0, 0, 1, 0, 0, 0, 0, 0, 0, 0, 0, 0, 0, 0, 0, 0, 1, 0, 0, 0, 0, 0, 0, 0, 0, 0, 0, 0, 0, 0, 0, 0, 0, 0, 0, 0, 0, 0, 0, 0, 0, 0, 0, 0, 0, 0, 0, 0, 0, 0, 0, 0, 0, 0, 0, 0, 0, 0, 0, 0, 0, 1, 0, 0, 0, 0, 0, 0, 0, 0, 0, 0, 0, 0, 0, 0, 0, 1, 0, 0, 0, 0, 0, 0, 0, 0, 0, 0, 0, 0, 0, 0, 0, 0, 0, 0, 0, 0, 1, 0, 0, 0, 0, 0, 0, 0, 0, 0, 0, 0, 0, 0, 0, 0, 0, 0, 0, 0, 0, 0, 0, 0, 0, 0, 0, 0, 0, 0, 0, 0, 0, 0, 0, 0, 0, 0, 0, 0, 0, 0, 0, 0, 0, 0, 0, 0, 0, 0, 0, 0, 0, 0, 0, 0, 0, 0, 0, 1, 0, 0, 0, 0, 0, 0, 0, 0, 0, 0, 0, 0, 0, 1, 0, 0, 0, 0, 0, 0, 0, 0, 0, 0, 0, 0, 0, 0, 0, 0, 1, 0, 0, 0, 0, 0, 1, 0, 0, 0, 0, 0, 0, 0, 0, 0, 0, 0, 0, 0, 0, 0, 0, 0, 0, 0, 0, 0, 0, 0, 0, 0, 0, 0, 0, 0, 0, 0, 0, 0, 0, 0, 0, 0, 0, 0, 0, 0, 0, 0, 0, 0, 0, 0, 0, 0, 0, 0, 0, 0, 0, 0, 0, 0, 0, 1, 0, 0, 0, 0, 0, 0, 0, 0, 0, 0, 0, 0, 0, 0, 0, 0, 0, 1, 0, 0, 0, 0, 0, 0, 0, 0, 0, 0, 0, 0, 0, 0, 0, 0, 0, 0, 0, 0, 0, 0, 0, 0, 0, 0, 0, 0, 0, 0, 0, 0, 0, 0, 0, 0, 0, 0, 0, 0, 0, 0, 0, 0, 0, 0, 0, 0, 0, 0, 0, 0, 0, 0, 0, 0, 0, 0, 0, 0, 0, 0, 0, 0, 0, 0, 0, 0, 0, 0, 0, 0, 0, 0, 0, 0, 0, 0, 0, 0, 0, 0, 0, 0, 0, 0, 0, 0, 0, 0, 0, 0, 0, 0, 0, 0, 0, 0, 0, 0, 0, 0, 0, 0, 0, 0, 0, 0, 0, 0, 0, 0, 0, 0, 0, 0, 0, 0, 0, 0, 0, 0, 0, 0, 0, 0, 0, 0, 0, 0, 0, 0, 0, 0, 0, 0, 0, 0, 0, 0, 0, 0, 0, 0, 0, 0, 0, 0, 0, 0, 0, 0, 0, 0, 0, 0, 0, 0, 0, 0, 0, 0, 0, 0, 0, 0, 0, 0, 0, 0, 0, 0, 0, 0, 0, 0, 0, 0, 0, 0, 0, 0, 0, 0, 0, 0, 0, 0, 0, 0, 0, 0, 0, 0, 0, 0, 0, 0, 0, 0, 0, 0, 0, 0, 0, 0, 0, 0, 0, 0, 0, 0, 0, 0, 0, 0, 0, 0, 0, 0, 0, 0, 0, 0, 0, 0, 0, 0, 0, 0, 0, 0, 0, 0, 0, 0, 0, 0, 0, 0, 0, 0, 0, 0, 0, 0, 0, 0, 0, 0, 0, 0, 0, 0, 0, 0, 0, 0, 0, 0, 0, 0, 0, 0, 0, 0, 0, 0, 0, 0, 0, 0, 0, 0, 0, 0, 0, 0, 0, 0, 0, 0, 0, 0, 0, 0, 0, 0, 0, 0, 0, 0, 0, 0, 0, 0, 0, 0, 0, 0, 0, 0, 0, 0, 0, 0, 0, 0, 0, 0, 0, 0, 0, 0, 0, 0, 0, 0, 0, 0, 0, 0, 0, 0, 0, 0, 0, 0, 0, 0, 0, 0, 0, 0, 0, 0, 0, 0, 0, 0, 0, 0, 0, 0, 0, 0, 0, 0, 0, 0, 0, 0, 0, 0, 0, 0, 0, 0, 0, 0, 0, 0, 0, 0, 0, 0, 0, 0, 0, 0, 0, 0, 0, 0, 0, 0, 0, 0, 0, 0, 0, 0, 0, 0, 0, 0, 0, 0, 0, 0, 0, 0, 0, 0, 0, 0, 0, 0, 0, 0, 0, 0, 0, 0, 0, 0, 0, 0, 0, 0, 0, 0, 0, 0, 0, 0, 0, 0, 0, 0, 0, 0, 0, 0, 0, 0, 0, 0, 0, 0, 0, 0, 0, 0, 0, 0, 0, 0, 0, 0, 0, 0, 0, 0, 0, 0, 0, 0, 0, 0, 0, 0, 1, 0, 0, 0, 0, 0, 0, 0, 0, 0, 0, 0, 0, 0, 0, 0, 0, 0, 0, 0, 0, 0, 0, 0, 0, 0, 0, 0, 0, 0, 0, 0, 0, 0, 0, 0, 0, 0, 0, 0, 0, 0, 0, 0, 0, 0, 0, 0, 0, 0, 0, 0, 0, 0, 0, 0, 0, 0, 0, 0, 0, 0, 0, 0, 0, 0, 0, 0, 0, 0, 0, 0, 0, 0, 0, 0, 0, 0, 0, 0, 0, 0, 0, 0, 0, 0, 0, 0, 0, 0, 0, 0, 0, 0, 0, 0, 0, 0, 0, 0, 0, 0, 0, 0, 0, 0, 0, 0, 0, 0, 0, 0, 0, 0, 0, 0, 0, 0, 0, 0, 0, 0, 0, 0, 0, 0, 0, 0, 0, 0, 0, 0, 0, 0, 0, 0, 0, 0, 0, 0, 0, 0, 0, 0, 0, 0, 0, 0, 0, 0, 0, 0, 0, 0, 0, 0, 0, 0, 0, 0, 0, 0, 0, 0, 0, 0, 0, 0, 0, 0, 0, 0, 0, 0, 0, 0, 0, 0, 0, 0, 0, 0, 0, 0, 0, 0, 0, 0, 0, 0, 0, 0, 0, 0, 0, 0, 0, 0, 0, 0, 0, 0, 0, 0, 0, 0, 0, 0, 0, 0, 0, 0, 0, 0, 0, 0, 0, 0, 0, 0, 0, 0, 0, 0, 0, 0, 0, 0, 0, 0, 0, 0, 0, 0, 0, 0, 0, 0, 0, 0, 0, 0, 0, 0, 0, 0, 0, 0, 0, 0, 0, 0, 0, 0, 0, 0, 0, 0, 0, 0, 0, 0, 0, 0, 0, 0, 0, 0, 0, 0, 0, 0, 0, 0, 0, 0, 0, 0, 0, 0, 0, 0, 0, 0, 0, 0, 0, 0, 0, 0, 0, 0, 0, 0, 0, 0, 0, 0, 0, 0, 0, 0, 0, 0, 0, 0, 0, 0, 0, 0, 0, 0, 0, 0, 0, 0, 0, 0, 0, 0, 0, 0, 0, 0, 0, 0, 0, 0, 0, 0, 0, 0, 0, 0, 0, 0, 0, 0, 0, 0, 0, 0, 0, 0, 0, 0, 0, 0, 0, 0, 0, 0, 0, 0, 0, 0, 0, 0, 0, 0, 0, 0, 0, 0, 0, 0, 0, 0, 0, 0, 0, 0, 0, 0, 0, 0, 0, 0, 0, 0, 0, 0, 0, 0, 0, 0, 0, 0, 0, 0, 0, 0, 0, 0, 0, 0, 0, 0, 0, 0, 0, 0, 0, 0, 0, 0, 0, 0, 0, 0, 0, 0, 0, 0, 0, 0, 0, 0, 0, 0, 0, 0, 0, 0, 0, 0, 0, 0, 0, 0, 0, 0, 0, 0, 0, 0, 0, 0, 0, 0, 0, 0, 0, 0, 0, 0, 0, 0, 0, 0, 0, 0, 0, 0, 0, 0, 0, 0, 0, 0, 0, 0, 0, 0, 0, 0, 0, 0, 0, 0, 0, 0, 0, 0, 0, 0, 0, 0, 0, 0, 0, 0, 0, 0, 0, 0, 0, 0, 0, 0, 0, 0, 0, 0, 0, 0, 0, 0, 0, 0, 0, 0, 0, 0, 0, 0, 0, 0, 0, 0, 0, 0, 0, 0, 0, 0, 0, 0, 0, 0, 0, 0, 0, 0, 0, 0, 0, 0, 0, 0, 0, 0, 0, 0, 0, 0, 0, 0, 0, 0, 0, 0, 0, 0, 0, 0, 0, 0, 0, 0, 0, 0, 0, 0, 0, 0, 0, 0, 0, 0, 0, 0, 0, 0, 0, 0, 0, 0, 0, 0, 0, 0, 0, 0, 0, 0, 0, 0, 0, 0, 0, 0, 0, 0, 0, 0, 0, 0, 0, 0, 0, 0, 0, 0, 0, 0, 0, 0, 0, 0, 0, 0, 0, 0, 0, 0, 0, 0, 0, 0, 0, 0, 0, 0, 0, 0, 0, 0, 0, 0, 0, 0, 0, 0, 0, 0, 0, 0, 0, 0, 0, 0, 0, 0, 0, 0, 0, 0, 0, 0, 0, 0, 0, 0, 0, 0, 0, 0, 0, 0, 0, 0, 0, 0, 0, 0, 0, 0, 0, 0, 0, 0, 0, 0, 0, 0, 0, 0, 0, 0, 0, 0, 0, 0, 0, 0, 0, 0, 0, 0, 0, 0, 0, 0, 0, 0, 0, 0, 0, 0, 0, 0, 0, 0, 0, 0, 0, 0, 0, 0, 0, 0, 0, 0, 0, 0, 0, 0, 0, 0, 0, 0, 0, 0, 0, 0, 0, 0, 0, 0, 0, 0, 0, 0, 0, 0, 0, 0, 0, 0, 0, 0, 0, 0, 0, 0, 0, 0, 0, 0, 0, 0, 0, 0, 0, 0, 0, 0, 0, 0, 0, 0, 0, 0, 0, 0, 0, 0, 0, 0, 0, 0, 0, 0, 0, 0, 0, 0, 0, 0, 0, 0, 0, 0, 0, 0, 0, 0, 0, 0, 0, 0, 0, 0, 0, 0, 0, 0, 0, 0, 0, 0, 0, 0, 0, 0, 0, 0, 0, 0, 0, 0, 0, 0, 0, 0, 0, 0, 0, 0, 0, 0, 0, 0, 0, 0, 0, 0, 0, 0, 0, 0, 0, 0, 0, 0, 0, 0, 0, 0, 0, 0, 0, 0, 0, 0, 0, 0, 0, 0, 0, 0, 0, 0, 0, 0, 0, 0, 0, 0, 0, 0, 0, 0, 0, 0, 0, 0, 0, 0, 0, 0, 0, 0, 0, 0, 0, 0, 0, 0, 0, 0, 0, 0, 0, 0, 0, 0, 0, 0, 0, 0, 0, 0, 0, 0, 0, 0, 0, 0, 0, 0, 0, 0, 0, 0, 0, 0, 0, 0, 0, 0, 0, 0, 0, 0, 0, 0, 0, 0, 0, 0, 0, 0, 0, 0, 0, 0, 0, 0, 0, 0, 0, 0, 0, 0, 0, 0, 0, 0, 0, 0, 0, 0, 0, 0, 0, 0, 0, 0, 0, 0, 0, 0, 0, 0, 0, 0, 0, 0, 0, 0, 0, 0, 0, 0, 0, 0, 0, 0, 0, 0, 0, 0, 0, 0, 0, 0, 0, 0, 0, 0, 0, 0, 0, 0, 0, 0, 0, 0, 0, 0, 0, 0, 0, 0, 0, 0, 0, 0, 0, 0, 0, 0, 0, 0, 0, 0, 0, 0, 0, 0, 0, 0, 0, 0, 0, 0, 0, 0, 0, 0, 0, 0, 0, 0, 0, 0, 0, 0, 0, 0, 0, 0, 0, 0, 0, 0, 0, 0, 0, 0, 0, 0, 0, 0, 0, 0, 0, 0, 0, 0, 0, 0, 0, 0, 0, 0, 0, 0, 0, 0, 0, 0, 0, 0, 0, 0, 0, 0, 0, 0, 0, 0, 0, 0, 0, 0, 0, 0, 0, 0, 0, 0, 0, 0, 0, 0, 0, 0, 0, 0, 0, 0, 0, 0, 0, 0, 0, 0, 0, 0, 0, 0, 0, 0, 0, 0, 0, 0, 0, 0, 0, 0, 0, 0, 0, 0, 0, 0, 0, 0, 0, 0, 0, 0, 0, 0, 0, 0, 0, 0, 0, 0, 0, 0, 0, 0, 0, 0, 0, 0, 0, 0, 0, 0, 0, 0, 0, 0, 0, 0, 0, 0, 0, 0, 0, 0, 0, 0, 0, 0, 0, 0, 0, 0, 0, 0, 0, 0, 0, 0, 0, 0, 0, 0, 0, 0, 0, 0, 0, 0, 0, 0, 0, 0, 0, 0, 0, 0, 0, 0, 0, 0, 0, 0, 0, 0, 0, 0, 0, 0, 0, 0, 0, 0, 0, 0, 0, 0, 0, 0, 0, 0, 0, 0, 0, 0, 0, 0, 0, 0, 0, 0, 0, 0, 0, 0, 0, 0, 0, 0, 0, 0, 0, 0, 0, 0, 0, 0, 0, 0, 0, 0, 0, 0, 0, 0, 0, 0, 0, 0, 0, 0, 0, 0, 0, 0, 0, 0, 0, 0, 0, 0, 0, 0, 0, 0, 0, 0, 0, 0, 0, 0, 0, 0, 0, 0, 0, 0, 0, 0, 0, 0, 0, 0, 0, 0, 0, 0, 0, 0, 0, 0, 0, 0, 0, 0, 0, 0, 0, 0, 0, 0, 0, 0, 0, 0, 0, 0, 0, 0, 0, 0, 0, 0, 0, 0, 0, 0, 0, 0, 0, 0, 0, 0, 0, 0, 0, 0, 0, 0, 0, 0, 0, 0, 0, 0, 0, 0, 0, 0, 0, 0, 0, 0, 0, 0, 0, 0, 0, 0, 0, 0, 0]\n",
            "tensor([0.0000, 1.2335, 0.0000,  ..., 0.0000, 0.0000, 0.3521],\n",
            "       grad_fn=<SelectBackward0>)\n",
            "['a1a3', 'a1a8', 'a1b2', 'a1c1', 'a1c3', 'a1d4', 'a1e5', 'a1f1', 'a1g1', 'a1g7', 'a1h1', 'a2a1', 'a2a3', 'a2a4', 'a2a5', 'a2a6', 'a2b3', 'a2c2', 'a2c4', 'a2d2', 'a2d5', 'a2e2', 'a2e6', 'a2f2', 'a2f7', 'a3a2', 'a3a7', 'a3a8', 'a3b2', 'a3b4', 'a3b5', 'a3c1', 'a3c2', 'a3c4', 'a3e3', 'a3g3', 'a4a2', 'a4a3', 'a4a6', 'a4b2', 'a4b3', 'a4b4', 'a4b5', 'a4c5', 'a4c6', 'a4d1', 'a4d7', 'a4h4', 'a5a2', 'a5a4', 'a5a6', 'a5a7', 'a5b3', 'a5b5', 'a5b6', 'a5b7', 'a5c4', 'a5c7', 'a5d5', 'a5d8', 'a5e1', 'a5e5', 'a5g5', 'a6a1', 'a6a3', 'a6b4', 'a6b5', 'a6b7', 'a6b8', 'a6c5', 'a6c6', 'a6c7', 'a6c8', 'a6d3', 'a6e6', 'a6f6', 'a6h6', 'a7a1', 'a7a3', 'a7a4', 'a7a5', 'a7a8', 'a7b6', 'a7b7', 'a7c6', 'a7c7', 'a7d4', 'a7d7', 'a7f2', 'a7g1', 'a8a2', 'a8a4', 'a8b7', 'a8d5', 'a8e4', 'a8e8', 'a8f8', 'b1a1', 'b1a2', 'b1a3', 'b1b2', 'b1b3', 'b1b7', 'b1b8', 'b1c1', 'b1c3', 'b1d2', 'b1d3', 'b1e4', 'b1f1', 'b1f5', 'b1h7', 'b2a2', 'b2b3', 'b2b6', 'b2b7', 'b2b8', 'b2c1', 'b2c3', 'b2d1', 'b2d2', 'b2d3', 'b2d4', 'b2g2', 'b3a3', 'b3a5', 'b3b1', 'b3b2', 'b3b5', 'b3b7', 'b3b8', 'b3c2', 'b3c4', 'b3c5', 'b3d1', 'b3d2', 'b3d3', 'b3e3', 'b3g3', 'b4a2', 'b4a6', 'b4b1', 'b4b2', 'b4b3', 'b4b5', 'b4b6', 'b4b7', 'b4b8', 'b4c2', 'b4c3', 'b4c4', 'b4c6', 'b4d3', 'b4e4', 'b4e7', 'b4f4', 'b4f8', 'b4g4', 'b5a3', 'b5a6', 'b5a7', 'b5b1', 'b5b2', 'b5b3', 'b5b7', 'b5c4', 'b5c5', 'b5c6', 'b5d3', 'b5d5', 'b5d6', 'b5e5', 'b5e8', 'b5f5', 'b5g5', 'b5h5', 'b6a4', 'b6a5', 'b6a6', 'b6a7', 'b6a8', 'b6b1', 'b6b4', 'b6b5', 'b6b8', 'b6c6', 'b6d5', 'b6e6', 'b6g1', 'b6h6', 'b7a6', 'b7b2', 'b7b3', 'b7b5', 'b7b6', 'b7b8', 'b7c6', 'b7c7', 'b7d7', 'b7d8', 'b7f3', 'b7g2', 'b7h7', 'b8a6', 'b8a8', 'b8b1', 'b8b3', 'b8b4', 'b8b6', 'b8b7', 'b8c6', 'b8c7', 'b8c8', 'b8d7', 'b8e5', 'b8f8', 'b8g3', 'b8g8', 'b8h2', 'c1a2', 'c1a3', 'c1b2', 'c1c3', 'c1c4', 'c1c5', 'c1c6', 'c1c8', 'c1d1', 'c1d2', 'c1e3', 'c1g1', 'c1h6', 'c2b1', 'c2b2', 'c2b3', 'c2b4', 'c2c5', 'c2c6', 'c2d1', 'c2d2', 'c2d3', 'c2d4', 'c2e1', 'c2e2', 'c2g2', 'c2h2', 'c3a2', 'c3a3', 'c3b1', 'c3b2', 'c3b5', 'c3c1', 'c3c2', 'c3c4', 'c3c8', 'c3d2', 'c3d3', 'c3e1', 'c3e2', 'c3e3', 'c3e4', 'c3e5', 'c3g3', 'c3h3', 'c3h8', 'c4a3', 'c4a6', 'c4b3', 'c4b5', 'c4c1', 'c4c5', 'c4c7', 'c4c8', 'c4d2', 'c4d3', 'c4f1', 'c4f4', 'c4f7', 'c4g8', 'c4h4', 'c5a3', 'c5a4', 'c5a5', 'c5a6', 'c5a7', 'c5b3', 'c5b4', 'c5b7', 'c5c4', 'c5c7', 'c5c8', 'c5d3', 'c5d5', 'c5d7', 'c5e3', 'c5e6', 'c5e7', 'c5f2', 'c5g1', 'c5h5', 'c6a4', 'c6a7', 'c6a8', 'c6b5', 'c6b6', 'c6b8', 'c6c1', 'c6c3', 'c6c4', 'c6d4', 'c6e4', 'c6e6', 'c6e7', 'c6h6', 'c7a6', 'c7a7', 'c7a8', 'c7b5', 'c7b8', 'c7c2', 'c7c5', 'c7c6', 'c7c8', 'c7d7', 'c7d8', 'c7e5', 'c7e6', 'c7e7', 'c7f4', 'c7g3', 'c7h7', 'c8a7', 'c8b6', 'c8b8', 'c8c1', 'c8c2', 'c8c3', 'c8c4', 'c8d7', 'c8d8', 'c8e6', 'c8e7', 'c8g8', 'c8h3', 'c8h8', 'd1a1', 'd1a4', 'd1b1', 'd1b2', 'd1b3', 'd1c1', 'd1c3', 'd1d2', 'd1d3', 'd1d4', 'd1f2', 'd1f3', 'd1g1', 'd2b1', 'd2c1', 'd2c2', 'd2c4', 'd2d6', 'd2d8', 'd2e2', 'd2e3', 'd2e4', 'd2f3', 'd2g5', 'd2h6', 'd3b3', 'd3c2', 'd3c3', 'd3c4', 'd3d1', 'd3e5', 'd3f4', 'd3f5', 'd3g6', 'd3h7', 'd4a1', 'd4a4', 'd4b5', 'd4c3', 'd4c6', 'd4d1', 'd4d5', 'd4d6', 'd4d7', 'd4e3', 'd4e5', 'd4e6', 'd4f2', 'd4g1', 'd4g7', 'd5a2', 'd5a8', 'd5b3', 'd5b6', 'd5b7', 'd5c3', 'd5c4', 'd5c5', 'd5c6', 'd5d1', 'd5d2', 'd5d4', 'd5d7', 'd5d8', 'd5e3', 'd5e5', 'd5f4', 'd5f5', 'd5f6', 'd5g2', 'd5g5', 'd6a3', 'd6b4', 'd6b5', 'd6c4', 'd6c5', 'd6c7', 'd6c8', 'd6d1', 'd6d2', 'd6d3', 'd6d5', 'd6e4', 'd6e7', 'd6e8', 'd6f5', 'd6g6', 'd6h6', 'd7b7', 'd7b8', 'd7c5', 'd7c6', 'd7d2', 'd7e5', 'd7f5', 'd7f6', 'd7f7', 'd7g4', 'd7h3', 'd7h7', 'd8b6', 'd8b7', 'd8b8', 'd8c6', 'd8c7', 'd8c8', 'd8d1', 'd8d2', 'd8d4', 'd8d5', 'd8d6', 'd8d7', 'd8e6', 'd8e7', 'd8e8', 'd8f6', 'd8f8', 'd8g5', 'd8g8', 'e1b1', 'e1b4', 'e1c3', 'e1d1', 'e1d2', 'e1d3', 'e1e2', 'e1e4', 'e1e6', 'e1e7', 'e1e8', 'e1f1', 'e1f3', 'e1g1', 'e1g2', 'e1g3', 'e2b5', 'e2c2', 'e2c4', 'e2d2', 'e2d3', 'e2d4', 'e2e1', 'e2e3', 'e2e7', 'e2f3', 'e2f4', 'e2g2', 'e2h2', 'e2h5', 'e3a3', 'e3b3', 'e3b6', 'e3c1', 'e3c2', 'e3c3', 'e3c4', 'e3e4', 'e3e5', 'e3e6', 'e3e7', 'e3e8', 'e3f4', 'e3f5', 'e3g1', 'e3g2', 'e3g3', 'e3g4', 'e4a8', 'e4b1', 'e4b4', 'e4b7', 'e4c2', 'e4c3', 'e4c5', 'e4d3', 'e4d4', 'e4d5', 'e4d6', 'e4e1', 'e4e5', 'e4e6', 'e4e7', 'e4f3', 'e4g5', 'e4g6', 'e4h1', 'e4h4', 'e4h7', 'e5a1', 'e5a5', 'e5c4', 'e5c5', 'e5d3', 'e5d5', 'e5d6', 'e5e3', 'e5e6', 'e5e7', 'e5e8', 'e5f3', 'e5g3', 'e5g5', 'e5g6', 'e5g7', 'e5h5', 'e5h8', 'e6b3', 'e6b6', 'e6c5', 'e6c7', 'e6d4', 'e6d5', 'e6e4', 'e6e8', 'e6f4', 'e6f5', 'e6f7', 'e6g5', 'e6g6', 'e6h3', 'e7c5', 'e7c6', 'e7c7', 'e7d7', 'e7e1', 'e7e2', 'e7e3', 'e7e4', 'e7e5', 'e7e6', 'e7e8', 'e7f6', 'e7f8', 'e7g6', 'e7g7', 'e7h7', 'e8a4', 'e8b5', 'e8d6', 'e8e1', 'e8e3', 'e8e6', 'e8e7', 'e8f6', 'e8g6', 'e8g7', 'e8h5', 'f1b1', 'f1d1', 'f1d2', 'f1e1', 'f1e3', 'f1f3', 'f1f5', 'f1f7', 'f1f8', 'f1g2', 'f1g3', 'f1h2', 'f1h3', 'f2b6', 'f2c2', 'f2c5', 'f2d1', 'f2d3', 'f2d4', 'f2e2', 'f2e4', 'f2f3', 'f2f4', 'f2f7', 'f2f8', 'f2g1', 'f2g3', 'f2g4', 'f2h2', 'f3b3', 'f3c3', 'f3d2', 'f3d5', 'f3e3', 'f3e5', 'f3f2', 'f3f5', 'f3f6', 'f3f8', 'f3g1', 'f3g4', 'f3h2', 'f3h3', 'f4c1', 'f4c7', 'f4d3', 'f4e4', 'f4e5', 'f4e6', 'f4f1', 'f4f3', 'f4f8', 'f4g4', 'f4g6', 'f4h2', 'f4h3', 'f4h4', 'f4h6', 'f5c2', 'f5c5', 'f5c8', 'f5d3', 'f5d5', 'f5d7', 'f5e4', 'f5e5', 'f5f1', 'f5f2', 'f5f3', 'f5f8', 'f5g4', 'f5g5', 'f5g7', 'f5h5', 'f5h6', 'f6a1', 'f6a6', 'f6d6', 'f6e7', 'f6f1', 'f6f4', 'f6f7', 'f6f8', 'f6g4', 'f6g6', 'f6h4', 'f6h5', 'f6h7', 'f7a2', 'f7a7', 'f7b7', 'f7c4', 'f7c7', 'f7d5', 'f7d6', 'f7d7', 'f7e5', 'f7e6', 'f7e8', 'f7f1', 'f7f4', 'f7f5', 'f7f8', 'f7g6', 'f7g7', 'f7g8', 'f7h6', 'f7h7', 'f8b4', 'f8d6', 'f8d7', 'f8e7', 'f8f1', 'f8f2', 'f8f4', 'f8f5', 'f8f7', 'f8g7', 'f8g8', 'f8h7', 'g1a1', 'g1b1', 'g1d1', 'g1d4', 'g1f2', 'g1g2', 'g1g5', 'g1g6', 'g1g8', 'g1h2', 'g2c6', 'g2d5', 'g2e4', 'g2f1', 'g2f3', 'g2h3', 'g2h4', 'g3a3', 'g3c3', 'g3d3', 'g3e4', 'g3e5', 'g3f1', 'g3f2', 'g3f3', 'g3f4', 'g3g2', 'g3g4', 'g3g6', 'g3g7', 'g3h1', 'g3h4', 'g4c8', 'g4e2', 'g4e3', 'g4e5', 'g4e6', 'g4f3', 'g4f4', 'g4f5', 'g4g1', 'g4g2', 'g4g6', 'g4g7', 'g4g8', 'g4h2', 'g4h5', 'g4h6', 'g5a5', 'g5c1', 'g5c5', 'g5d2', 'g5d5', 'g5e5', 'g5f6', 'g5g3', 'g5g4', 'g5g6', 'g5h3', 'g5h4', 'g6a6', 'g6b1', 'g6b6', 'g6c2', 'g6c6', 'g6d3', 'g6e6', 'g6g2', 'g6g7', 'g6h4', 'g6h5', 'g6h7', 'g6h8', 'g7a1', 'g7b2', 'g7b7', 'g7c3', 'g7d4', 'g7d7', 'g7e6', 'g7e7', 'g7f6', 'g7g1', 'g7g2', 'g7g3', 'g7g5', 'g7g6', 'g7h8', 'g8a2', 'g8a8', 'g8b3', 'g8c4', 'g8e6', 'g8e8', 'g8g2', 'g8h6', 'g8h8', 'h1b1', 'h1c6', 'h1d1', 'h1e1', 'h1f3', 'h1g1', 'h1h3', 'h1h4', 'h1h5', 'h1h7', 'h2b2', 'h2b8', 'h2c2', 'h2c7', 'h2d2', 'h2e2', 'h2f1', 'h2f3', 'h2h1', 'h2h6', 'h3a3', 'h3b3', 'h3c8', 'h3d3', 'h3d7', 'h3e3', 'h3e6', 'h3f4', 'h3g1', 'h3g2', 'h3g4', 'h3g5', 'h3h1', 'h3h6', 'h3h7', 'h4c4', 'h4d4', 'h4e1', 'h4e7', 'h4f5', 'h4f6', 'h4g2', 'h4g6', 'h4h1', 'h4h2', 'h4h5', 'h4h6', 'h4h8', 'h5c5', 'h5d5', 'h5e2', 'h5f5', 'h5f6', 'h5g3', 'h5g4', 'h5g5', 'h5g7', 'h5h1', 'h5h3', 'h5h6', 'h5h8', 'h6c6', 'h6e6', 'h6f4', 'h6f6', 'h6f7', 'h6g5', 'h6g7', 'h6g8', 'h6h2', 'h6h5', 'h6h7', 'h7b1', 'h7b7', 'h7c2', 'h7d3', 'h7d7', 'h7e4', 'h7f8', 'h7g5', 'h7g6', 'h7h1', 'h7h2', 'h7h3', 'h7h4', 'h7h5', 'h7h6', 'h7h8', 'h8a8', 'h8b2', 'h8c8', 'h8f8', 'h8g7', 'h8h1', 'h8h2', 'h8h3', 'h8h7']\n"
          ]
        }
      ]
    }
  ]
}