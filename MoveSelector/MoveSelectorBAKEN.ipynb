{
  "nbformat": 4,
  "nbformat_minor": 0,
  "metadata": {
    "colab": {
      "provenance": [],
      "include_colab_link": true
    },
    "kernelspec": {
      "name": "python3",
      "display_name": "Python 3"
    },
    "language_info": {
      "name": "python"
    }
  },
  "cells": [
    {
      "cell_type": "markdown",
      "metadata": {
        "id": "view-in-github",
        "colab_type": "text"
      },
      "source": [
        "<a href=\"https://colab.research.google.com/github/averyrair/ChessBAKEN/blob/main/MoveSelector/MoveSelectorBAKEN.ipynb\" target=\"_parent\"><img src=\"https://colab.research.google.com/assets/colab-badge.svg\" alt=\"Open In Colab\"/></a>"
      ]
    },
    {
      "cell_type": "code",
      "source": [
        "#@title Install Dependencies\n",
        "\n",
        "!pip install chess\n",
        "#!pip install stockfish\n",
        "#!apt install stockfish"
      ],
      "metadata": {
        "colab": {
          "base_uri": "https://localhost:8080/"
        },
        "id": "nMHzza4EUkGk",
        "outputId": "1b393c35-728f-4f69-bb00-511b4c0e562d",
        "collapsed": true,
        "cellView": "form"
      },
      "execution_count": 20,
      "outputs": [
        {
          "output_type": "stream",
          "name": "stdout",
          "text": [
            "Requirement already satisfied: chess in /usr/local/lib/python3.11/dist-packages (1.11.2)\n"
          ]
        }
      ]
    },
    {
      "cell_type": "code",
      "source": [
        "#@title Import Directories\n",
        "\n",
        "from google.colab import drive\n",
        "# For this to work, you need to have the \"Chess Bot BAKEN\" project shared with\n",
        "# the SAME email you linked this Colab to, presumably your GitHub email address.\n",
        "drive.mount('/content/drive', force_remount=1)\n",
        "chess_dir = '/content/drive/Shareddrives/Chess Bot BAKEN'"
      ],
      "metadata": {
        "id": "dR6-7kOo5ybX",
        "outputId": "8f7107fe-1e19-4775-f201-68e8ad293dda",
        "colab": {
          "base_uri": "https://localhost:8080/"
        },
        "cellView": "form"
      },
      "execution_count": 21,
      "outputs": [
        {
          "output_type": "stream",
          "name": "stdout",
          "text": [
            "Mounted at /content/drive\n"
          ]
        }
      ]
    },
    {
      "cell_type": "code",
      "execution_count": 22,
      "metadata": {
        "id": "U1gs1RsOT7Ha",
        "cellView": "form"
      },
      "outputs": [],
      "source": [
        "#@title Import Libraries\n",
        "\n",
        "import os\n",
        "import chess\n",
        "import chess.pgn\n",
        "import torch\n",
        "import torch.nn as nn\n",
        "from torch.utils.data import Dataset\n",
        "import csv\n",
        "import numpy as np\n",
        "import pandas as pd\n",
        "import matplotlib.pyplot as plt"
      ]
    },
    {
      "cell_type": "code",
      "source": [
        "#@title Define Custom Board Representation\n",
        "\n",
        "def customBoardRep(board):\n",
        "  # From the current board position, this method should output integer equivalent of ones and zeros of length 8 x 8 x 6 x 2.\n",
        "  P = str(sum(j<<i for i,j in enumerate((np.asarray(board.pieces(chess.PAWN, chess.WHITE).tolist())).astype(int)))) + \" \"\n",
        "  N = str(sum(j<<i for i,j in enumerate((np.asarray(board.pieces(chess.KNIGHT, chess.WHITE).tolist())).astype(int)))) + \" \"\n",
        "  B = str(sum(j<<i for i,j in enumerate((np.asarray(board.pieces(chess.BISHOP, chess.WHITE).tolist())).astype(int)))) + \" \"\n",
        "  R = str(sum(j<<i for i,j in enumerate((np.asarray(board.pieces(chess.ROOK, chess.WHITE).tolist())).astype(int)))) + \" \"\n",
        "  Q = str(sum(j<<i for i,j in enumerate((np.asarray(board.pieces(chess.QUEEN, chess.WHITE).tolist())).astype(int)))) + \" \"\n",
        "  K = str(sum(j<<i for i,j in enumerate((np.asarray(board.pieces(chess.KING, chess.WHITE).tolist())).astype(int)))) + \" \"\n",
        "  p = str(sum(j<<i for i,j in enumerate((np.asarray(board.pieces(chess.PAWN, chess.BLACK).tolist())).astype(int)))) + \" \"\n",
        "  n = str(sum(j<<i for i,j in enumerate((np.asarray(board.pieces(chess.KNIGHT, chess.BLACK).tolist())).astype(int)))) + \" \"\n",
        "  b = str(sum(j<<i for i,j in enumerate((np.asarray(board.pieces(chess.BISHOP, chess.BLACK).tolist())).astype(int)))) + \" \"\n",
        "  r = str(sum(j<<i for i,j in enumerate((np.asarray(board.pieces(chess.ROOK, chess.BLACK).tolist())).astype(int)))) + \" \"\n",
        "  q = str(sum(j<<i for i,j in enumerate((np.asarray(board.pieces(chess.QUEEN, chess.BLACK).tolist())).astype(int)))) + \" \"\n",
        "  k = str(sum(j<<i for i,j in enumerate((np.asarray(board.pieces(chess.KING, chess.BLACK).tolist())).astype(int)))) + \" \"\n",
        "\n",
        "  return P + N + B + R + Q + K + p + n + b + r + q + k"
      ],
      "metadata": {
        "cellView": "form",
        "id": "VEEak8R7EdJ5"
      },
      "execution_count": 23,
      "outputs": []
    },
    {
      "cell_type": "code",
      "source": [
        "#@title Import PGN and Export CSV\n",
        "\n",
        "import chess.pgn\n",
        "if not os.path.exists(os.path.join(chess_dir, 'moveSelectorDataset.csv')):\n",
        "  pgn_dir = os.path.join(chess_dir, 'KingBase2019-pgn')\n",
        "  pgnFiles = [os.path.join(pgn_dir, f) for f in os.listdir(pgn_dir) if f.endswith('.pgn')]\n",
        "\n",
        "  # Prepare CSV to export dataset.\n",
        "  with open(os.path.join(chess_dir, 'moveSelectorDataset.csv'), 'w') as csvfile:\n",
        "    csvwriter = csv.writer(csvfile)\n",
        "    #csvwriter.writeheader(['Label', 'Input'])\n",
        "\n",
        "    # Read every PGN file in the directory.\n",
        "    iterator = 0\n",
        "    for pgnFile in pgnFiles:\n",
        "      print(pgnFile)\n",
        "      pgn = open(pgnFile)\n",
        "\n",
        "      # Read every game in the PGN file.\n",
        "      while True:\n",
        "        game = chess.pgn.read_game(pgn)\n",
        "        if game is None: break\n",
        "        iterator += 1\n",
        "        if iterator % 500 == 0: print(iterator)\n",
        "        board = game.board()\n",
        "\n",
        "        # New data point for every move in the game.\n",
        "        gameMoves = list(game.mainline_moves())\n",
        "        for i in range(len(gameMoves)-1):\n",
        "          board.push(gameMoves[i])\n",
        "          legalMoves = \" \"\n",
        "          for m in list(board.legal_moves):\n",
        "            legalMoves = legalMoves + str(m) + \" \"\n",
        "          #print(gameMoves[i+1], legalMoves, customBoardRep(board))\n",
        "          csvwriter.writerow([gameMoves[i+1], customBoardRep(board) + legalMoves])"
      ],
      "metadata": {
        "id": "h-0ocmM9PmZo",
        "cellView": "form"
      },
      "execution_count": null,
      "outputs": []
    },
    {
      "cell_type": "code",
      "source": [
        "#@title Define Fully-Connected Neural Network\n",
        "\n",
        "class myFCN(nn.Module):\n",
        "  def __init__(self, inSize, hiddenSizes, outSize):\n",
        "    super().__init__()\n",
        "    self.inSize = inSize\n",
        "    self.hiddenSize = hiddenSizes\n",
        "    self.outSize = outSize\n",
        "\n",
        "    self.lin1 = nn.Linear(inSize, hiddenSizes[0])\n",
        "    self.lin2 = nn.Linear(hiddenSizes[0], hiddenSizes[1])\n",
        "    self.lin3 = nn.Linear(hiddenSizes[1], outSize)\n",
        "\n",
        "    self.bn1 = nn.BatchNorm2d(hiddenSizes[0])\n",
        "    self.bn2 = nn.BatchNorm2d(hiddenSizes[1])\n",
        "\n",
        "    self.relu = nn.ReLU()\n",
        "\n",
        "  def forward(self, x):\n",
        "    x = self.relu(self.bn1(self.lin1(x)))\n",
        "    x = self.relu(self.bn2(self.lin2(x)))\n",
        "    x = self.lin3(x)\n",
        "    return x"
      ],
      "metadata": {
        "id": "_xIwaUL2Ef0n",
        "cellView": "form"
      },
      "execution_count": 24,
      "outputs": []
    },
    {
      "cell_type": "code",
      "source": [
        "#@title Initialize Fully-Connected Neural Network\n",
        "\n",
        "moveSelector = myFCN(inSize=2560, hiddenSizes=[2200, 2200], outSize=1792)\n",
        "moveSelector"
      ],
      "metadata": {
        "colab": {
          "base_uri": "https://localhost:8080/"
        },
        "id": "VtwHkKzU-30B",
        "outputId": "faa0da00-802b-42ee-df5f-451b3a970de2",
        "cellView": "form"
      },
      "execution_count": 25,
      "outputs": [
        {
          "output_type": "execute_result",
          "data": {
            "text/plain": [
              "myFCN(\n",
              "  (lin1): Linear(in_features=2560, out_features=2200, bias=True)\n",
              "  (lin2): Linear(in_features=2200, out_features=2200, bias=True)\n",
              "  (lin3): Linear(in_features=2200, out_features=1792, bias=True)\n",
              "  (bn1): BatchNorm2d(2200, eps=1e-05, momentum=0.1, affine=True, track_running_stats=True)\n",
              "  (bn2): BatchNorm2d(2200, eps=1e-05, momentum=0.1, affine=True, track_running_stats=True)\n",
              "  (relu): ReLU()\n",
              ")"
            ]
          },
          "metadata": {},
          "execution_count": 25
        }
      ]
    },
    {
      "cell_type": "code",
      "source": [
        "#@title Define Dataset\n",
        "\n",
        "class ChessDataset(Dataset):\n",
        "    def __init__(self, chessgame_file, chess_dir, transform=None, target_transform=None):\n",
        "        self.game_labels = pd.read_csv(chessgame_file)\n",
        "        self.chess_dir = chess_dir  # This is not used. Everything is in the chessgame file.\n",
        "        self.transform = transform\n",
        "        self.target_transform = target_transform\n",
        "\n",
        "    def __len__(self):\n",
        "        return len(self.game_labels)\n",
        "\n",
        "    def __getitem__(self, idx):\n",
        "        label = self.game_labels.iloc[idx, 0]\n",
        "        gameState = self.game_labels.iloc[idx, 1]\n",
        "        if self.transform:\n",
        "            gameState = self.transform(gameState)\n",
        "        if self.target_transform:\n",
        "            label = self.target_transform(label)\n",
        "        return gameState, label"
      ],
      "metadata": {
        "id": "gEJ_xS5Kc-PN",
        "cellView": "form"
      },
      "execution_count": 26,
      "outputs": []
    }
  ]
}