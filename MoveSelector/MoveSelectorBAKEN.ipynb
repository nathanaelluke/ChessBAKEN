{
  "nbformat": 4,
  "nbformat_minor": 0,
  "metadata": {
    "colab": {
      "provenance": [],
      "include_colab_link": true
    },
    "kernelspec": {
      "name": "python3",
      "display_name": "Python 3"
    },
    "language_info": {
      "name": "python"
    }
  },
  "cells": [
    {
      "cell_type": "markdown",
      "metadata": {
        "id": "view-in-github",
        "colab_type": "text"
      },
      "source": [
        "<a href=\"https://colab.research.google.com/github/averyrair/ChessBAKEN/blob/main/MoveSelector/MoveSelectorBAKEN.ipynb\" target=\"_parent\"><img src=\"https://colab.research.google.com/assets/colab-badge.svg\" alt=\"Open In Colab\"/></a>"
      ]
    },
    {
      "cell_type": "code",
      "source": [
        "!pip install chess\n",
        "!pip install stockfish\n",
        "!apt install stockfish"
      ],
      "metadata": {
        "colab": {
          "base_uri": "https://localhost:8080/"
        },
        "id": "nMHzza4EUkGk",
        "outputId": "1ac5771b-58e4-4ef6-dedb-1230ff6ebfd8",
        "collapsed": true
      },
      "execution_count": 1,
      "outputs": [
        {
          "output_type": "stream",
          "name": "stdout",
          "text": [
            "Collecting chess\n",
            "  Downloading chess-1.11.2.tar.gz (6.1 MB)\n",
            "\u001b[2K     \u001b[90m━━━━━━━━━━━━━━━━━━━━━━━━━━━━━━━━━━━━━━━━\u001b[0m \u001b[32m6.1/6.1 MB\u001b[0m \u001b[31m16.9 MB/s\u001b[0m eta \u001b[36m0:00:00\u001b[0m\n",
            "\u001b[?25h  Preparing metadata (setup.py) ... \u001b[?25l\u001b[?25hdone\n",
            "Building wheels for collected packages: chess\n",
            "  Building wheel for chess (setup.py) ... \u001b[?25l\u001b[?25hdone\n",
            "  Created wheel for chess: filename=chess-1.11.2-py3-none-any.whl size=147776 sha256=d0380bebe9bd87e6d296b7ac6ae3a49b6cea89fb6f76efa90dc2027c4bc56a2a\n",
            "  Stored in directory: /root/.cache/pip/wheels/fb/5d/5c/59a62d8a695285e59ec9c1f66add6f8a9ac4152499a2be0113\n",
            "Successfully built chess\n",
            "Installing collected packages: chess\n",
            "Successfully installed chess-1.11.2\n",
            "Collecting stockfish\n",
            "  Downloading stockfish-3.28.0-py3-none-any.whl.metadata (12 kB)\n",
            "Downloading stockfish-3.28.0-py3-none-any.whl (13 kB)\n",
            "Installing collected packages: stockfish\n",
            "Successfully installed stockfish-3.28.0\n",
            "Reading package lists... Done\n",
            "Building dependency tree... Done\n",
            "Reading state information... Done\n",
            "Suggested packages:\n",
            "  polyglot xboard | scid\n",
            "The following NEW packages will be installed:\n",
            "  stockfish\n",
            "0 upgraded, 1 newly installed, 0 to remove and 29 not upgraded.\n",
            "Need to get 24.8 MB of archives.\n",
            "After this operation, 47.4 MB of additional disk space will be used.\n",
            "Get:1 http://archive.ubuntu.com/ubuntu jammy/universe amd64 stockfish amd64 14.1-1 [24.8 MB]\n",
            "Fetched 24.8 MB in 1s (18.9 MB/s)\n",
            "Selecting previously unselected package stockfish.\n",
            "(Reading database ... 125044 files and directories currently installed.)\n",
            "Preparing to unpack .../stockfish_14.1-1_amd64.deb ...\n",
            "Unpacking stockfish (14.1-1) ...\n",
            "Setting up stockfish (14.1-1) ...\n",
            "Processing triggers for man-db (2.10.2-1) ...\n"
          ]
        }
      ]
    },
    {
      "cell_type": "code",
      "execution_count": 2,
      "metadata": {
        "id": "U1gs1RsOT7Ha"
      },
      "outputs": [],
      "source": [
        "import chess\n",
        "import torch\n",
        "import torch.nn as nn\n",
        "import numpy as np\n",
        "import pandas as pd\n",
        "import matplotlib.pyplot as plt"
      ]
    },
    {
      "cell_type": "code",
      "source": [
        "class myFCN(nn.Module):\n",
        "  def __init__(self, inSize, hiddenSizes, outSize):\n",
        "    super().__init__()\n",
        "    self.inSize = inSize\n",
        "    self.hiddenSize = hiddenSizes\n",
        "    self.outSize = outSize\n",
        "\n",
        "    self.lin1 = nn.Linear(inSize, hiddenSizes[0])\n",
        "    self.lin2 = nn.Linear(hiddenSizes[0], hiddenSizes[1])\n",
        "    self.lin3 = nn.Linear(hiddenSizes[1], outSize)\n",
        "\n",
        "    self.bn1 = nn.BatchNorm2d(hiddenSizes[0])\n",
        "    self.bn2 = nn.BatchNorm2d(hiddenSizes[1])\n",
        "\n",
        "    self.relu = nn.ReLU()\n",
        "\n",
        "  def forward(self, x):\n",
        "    x = self.relu(self.bn1(self.lin1(x)))\n",
        "    x = self.relu(self.bn2(self.lin2(x)))\n",
        "    x = self.lin3(x)\n",
        "    return x"
      ],
      "metadata": {
        "id": "_xIwaUL2Ef0n"
      },
      "execution_count": 3,
      "outputs": []
    },
    {
      "cell_type": "code",
      "source": [
        "moveSelector = myFCN(inSize=2560, hiddenSizes=[2200, 2200], outSize=1792)\n",
        "moveSelector"
      ],
      "metadata": {
        "colab": {
          "base_uri": "https://localhost:8080/"
        },
        "id": "VtwHkKzU-30B",
        "outputId": "80d84cc0-f17d-47ea-fbd8-b7dcd4a72394"
      },
      "execution_count": 4,
      "outputs": [
        {
          "output_type": "execute_result",
          "data": {
            "text/plain": [
              "myFCN(\n",
              "  (lin1): Linear(in_features=2560, out_features=2200, bias=True)\n",
              "  (lin2): Linear(in_features=2200, out_features=2200, bias=True)\n",
              "  (lin3): Linear(in_features=2200, out_features=1792, bias=True)\n",
              "  (bn1): BatchNorm2d(2200, eps=1e-05, momentum=0.1, affine=True, track_running_stats=True)\n",
              "  (bn2): BatchNorm2d(2200, eps=1e-05, momentum=0.1, affine=True, track_running_stats=True)\n",
              "  (relu): ReLU()\n",
              ")"
            ]
          },
          "metadata": {},
          "execution_count": 4
        }
      ]
    }
  ]
}